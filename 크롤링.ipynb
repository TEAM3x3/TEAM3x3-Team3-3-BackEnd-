{
 "cells": [
  {
   "cell_type": "markdown",
   "metadata": {},
   "source": [
    "# 카테고리 리스트"
   ]
  },
  {
   "cell_type": "code",
   "execution_count": 45,
   "metadata": {},
   "outputs": [],
   "source": [
    "import requests\n",
    "from django.core.files import File\n",
    "from selenium import webdriver\n",
    "import time\n",
    "import datetime\n",
    "import re\n",
    "from selenium.common.exceptions import NoSuchElementException\n",
    "from bs4 import BeautifulSoup\n",
    "\n"
   ]
  },
  {
   "cell_type": "code",
   "execution_count": 53,
   "metadata": {},
   "outputs": [],
   "source": [
    "driver = webdriver.Chrome('/Users/mac/projects/ChromeWebDriver/chromedriver')"
   ]
  },
  {
   "cell_type": "code",
   "execution_count": 12,
   "metadata": {},
   "outputs": [],
   "source": [
    "category_list = [\n",
    "    'https://www.kurly.com/shop/goods/goods_list.php?category=909',\n",
    "    'https://www.kurly.com/shop/goods/goods_list.php?category=910',\n",
    "    'https://www.kurly.com/shop/goods/goods_list.php?category=911',\n",
    "    'https://www.kurly.com/shop/goods/goods_list.php?category=912',\n",
    "    'https://www.kurly.com/shop/goods/goods_list.php?category=913',\n",
    "    'https://www.kurly.com/shop/goods/goods_list.php?category=914',\n",
    "    'https://www.kurly.com/shop/goods/goods_list.php?category=915',\n",
    "    'https://www.kurly.com/shop/goods/goods_list.php?category=032',\n",
    "    'https://www.kurly.com/shop/goods/goods_list.php?category=918',\n",
    "    'https://www.kurly.com/shop/goods/goods_list.php?category=012',\n",
    "    'https://www.kurly.com/shop/goods/goods_list.php?category=916',\n",
    "    'https://www.kurly.com/shop/goods/goods_list.php?category=085',\n",
    "    'https://www.kurly.com/shop/goods/goods_list.php?category=919',\n",
    "    'https://www.kurly.com/shop/goods/goods_list.php?category=991',\n",
    "]"
   ]
  },
  {
   "cell_type": "code",
   "execution_count": 55,
   "metadata": {},
   "outputs": [],
   "source": [
    "# test code\n",
    "driver.get('https://www.kurly.com/shop/goods/goods_list.php?category=909')"
   ]
  },
  {
   "cell_type": "code",
   "execution_count": 58,
   "metadata": {},
   "outputs": [
    {
     "data": {
      "text/plain": [
       "'수산·해산·건어물'"
      ]
     },
     "execution_count": 58,
     "metadata": {},
     "output_type": "execute_result"
    }
   ],
   "source": [
    "# 카테고리 이름\n",
    "category_name = driver.find_element_by_xpath('/html/body/div[1]/div[2]/div[2]/div/div[2]/div[1]/div[2]/div/span[2]').get_attribute('innerText')\n",
    "category_name"
   ]
  },
  {
   "cell_type": "code",
   "execution_count": 59,
   "metadata": {},
   "outputs": [
    {
     "name": "stdout",
     "output_type": "stream",
     "text": [
      "2\n",
      "생선류\n",
      "3\n",
      "오징어·낙지·문어\n",
      "4\n",
      "새우·게·랍스터\n",
      "5\n",
      "해산물·조개류\n",
      "6\n",
      "수산가공품\n",
      "7\n",
      "김·미역·해조류\n",
      "8\n",
      "건어물·다시팩\n"
     ]
    }
   ],
   "source": [
    "types = driver.find_elements_by_xpath('/html/body/div[1]/div[2]/div[2]/div/div[2]/div[1]/div[2]/ul/li')\n",
    "type_name_list = []\n",
    "goods_no_detail_list = []\n",
    "for index in range(1, len(types)):\n",
    "    current_time = datetime.datetime.now()\n",
    "    if index == 1:\n",
    "        continue\n",
    "    \n",
    "    print(index)\n",
    "    # category_types_list\n",
    "    button = driver.find_element_by_xpath(f'/html/body/div[1]/div[2]/div[2]/div/div[2]/div[1]/div[2]/ul/li[{index}]/a')\n",
    "    driver.execute_script(\"arguments[0].click();\", button)\n",
    "\n",
    "    time.sleep(4)\n",
    "    type_name = driver.find_element_by_xpath(f'/html/body/div[1]/div[2]/div[2]/div/div[2]/div[1]/div[2]/ul/li[{index}]/a').get_attribute('innerText')\n",
    "    print(type_name)\n",
    "    type_name_list.append(type_name)\n",
    "    \n",
    "    # 각 타입 별 디테일 페이지 url\n",
    "    goods_detail_urls = driver.find_elements_by_xpath('/html/body/div[1]/div[2]/div[2]/div/div[2]/div[2]/div[2]/div/ul/li/div/div/div/button/span')\n",
    "    goodsNoList = []\n",
    "    for index in goods_detail_urls[:16]:\n",
    "        no = index.get_attribute('innerText')\n",
    "        if '재고' in no:\n",
    "            continue\n",
    "        goodsNoList.append(f'https://www.kurly.com/shop/goods/goods_view.php?goodsno={no}')\n",
    "    goods_no_detail_list.append(goodsNoList)\n",
    "        "
   ]
  },
  {
   "cell_type": "code",
   "execution_count": 60,
   "metadata": {
    "scrolled": true
   },
   "outputs": [
    {
     "data": {
      "text/plain": [
       "['생선류', '오징어·낙지·문어', '새우·게·랍스터', '해산물·조개류', '수산가공품', '김·미역·해조류', '건어물·다시팩']"
      ]
     },
     "execution_count": 60,
     "metadata": {},
     "output_type": "execute_result"
    }
   ],
   "source": [
    "type_name_list"
   ]
  },
  {
   "cell_type": "code",
   "execution_count": 61,
   "metadata": {},
   "outputs": [
    {
     "data": {
      "text/plain": [
       "7"
      ]
     },
     "execution_count": 61,
     "metadata": {},
     "output_type": "execute_result"
    }
   ],
   "source": [
    "len(goods_no_detail_list)"
   ]
  },
  {
   "cell_type": "code",
   "execution_count": 62,
   "metadata": {
    "scrolled": true
   },
   "outputs": [
    {
     "data": {
      "text/plain": [
       "[['https://www.kurly.com/shop/goods/goods_view.php?goodsno=1391',\n",
       "  'https://www.kurly.com/shop/goods/goods_view.php?goodsno=53512',\n",
       "  'https://www.kurly.com/shop/goods/goods_view.php?goodsno=47711',\n",
       "  'https://www.kurly.com/shop/goods/goods_view.php?goodsno=45300',\n",
       "  'https://www.kurly.com/shop/goods/goods_view.php?goodsno=48540',\n",
       "  'https://www.kurly.com/shop/goods/goods_view.php?goodsno=43698',\n",
       "  'https://www.kurly.com/shop/goods/goods_view.php?goodsno=53513',\n",
       "  'https://www.kurly.com/shop/goods/goods_view.php?goodsno=43699',\n",
       "  'https://www.kurly.com/shop/goods/goods_view.php?goodsno=43697',\n",
       "  'https://www.kurly.com/shop/goods/goods_view.php?goodsno=53884',\n",
       "  'https://www.kurly.com/shop/goods/goods_view.php?goodsno=37066',\n",
       "  'https://www.kurly.com/shop/goods/goods_view.php?goodsno=13611',\n",
       "  'https://www.kurly.com/shop/goods/goods_view.php?goodsno=5451',\n",
       "  'https://www.kurly.com/shop/goods/goods_view.php?goodsno=51705',\n",
       "  'https://www.kurly.com/shop/goods/goods_view.php?goodsno=53508',\n",
       "  'https://www.kurly.com/shop/goods/goods_view.php?goodsno=35952'],\n",
       " ['https://www.kurly.com/shop/goods/goods_view.php?goodsno=29565',\n",
       "  'https://www.kurly.com/shop/goods/goods_view.php?goodsno=10870',\n",
       "  'https://www.kurly.com/shop/goods/goods_view.php?goodsno=53934',\n",
       "  'https://www.kurly.com/shop/goods/goods_view.php?goodsno=4289',\n",
       "  'https://www.kurly.com/shop/goods/goods_view.php?goodsno=10316',\n",
       "  'https://www.kurly.com/shop/goods/goods_view.php?goodsno=48536',\n",
       "  'https://www.kurly.com/shop/goods/goods_view.php?goodsno=9985',\n",
       "  'https://www.kurly.com/shop/goods/goods_view.php?goodsno=13275',\n",
       "  'https://www.kurly.com/shop/goods/goods_view.php?goodsno=49889',\n",
       "  'https://www.kurly.com/shop/goods/goods_view.php?goodsno=55383',\n",
       "  'https://www.kurly.com/shop/goods/goods_view.php?goodsno=25418',\n",
       "  'https://www.kurly.com/shop/goods/goods_view.php?goodsno=34038',\n",
       "  'https://www.kurly.com/shop/goods/goods_view.php?goodsno=26401',\n",
       "  'https://www.kurly.com/shop/goods/goods_view.php?goodsno=48538',\n",
       "  'https://www.kurly.com/shop/goods/goods_view.php?goodsno=48686',\n",
       "  'https://www.kurly.com/shop/goods/goods_view.php?goodsno=9465'],\n",
       " ['https://www.kurly.com/shop/goods/goods_view.php?goodsno=29524',\n",
       "  'https://www.kurly.com/shop/goods/goods_view.php?goodsno=54074',\n",
       "  'https://www.kurly.com/shop/goods/goods_view.php?goodsno=42356',\n",
       "  'https://www.kurly.com/shop/goods/goods_view.php?goodsno=29629',\n",
       "  'https://www.kurly.com/shop/goods/goods_view.php?goodsno=31379',\n",
       "  'https://www.kurly.com/shop/goods/goods_view.php?goodsno=37257',\n",
       "  'https://www.kurly.com/shop/goods/goods_view.php?goodsno=34930',\n",
       "  'https://www.kurly.com/shop/goods/goods_view.php?goodsno=13127',\n",
       "  'https://www.kurly.com/shop/goods/goods_view.php?goodsno=42444',\n",
       "  'https://www.kurly.com/shop/goods/goods_view.php?goodsno=54153',\n",
       "  'https://www.kurly.com/shop/goods/goods_view.php?goodsno=48171',\n",
       "  'https://www.kurly.com/shop/goods/goods_view.php?goodsno=37254',\n",
       "  'https://www.kurly.com/shop/goods/goods_view.php?goodsno=4297',\n",
       "  'https://www.kurly.com/shop/goods/goods_view.php?goodsno=37114',\n",
       "  'https://www.kurly.com/shop/goods/goods_view.php?goodsno=50941',\n",
       "  'https://www.kurly.com/shop/goods/goods_view.php?goodsno=4705'],\n",
       " ['https://www.kurly.com/shop/goods/goods_view.php?goodsno=34322',\n",
       "  'https://www.kurly.com/shop/goods/goods_view.php?goodsno=37627',\n",
       "  'https://www.kurly.com/shop/goods/goods_view.php?goodsno=49139',\n",
       "  'https://www.kurly.com/shop/goods/goods_view.php?goodsno=49135',\n",
       "  'https://www.kurly.com/shop/goods/goods_view.php?goodsno=13474',\n",
       "  'https://www.kurly.com/shop/goods/goods_view.php?goodsno=29386',\n",
       "  'https://www.kurly.com/shop/goods/goods_view.php?goodsno=43508',\n",
       "  'https://www.kurly.com/shop/goods/goods_view.php?goodsno=13272',\n",
       "  'https://www.kurly.com/shop/goods/goods_view.php?goodsno=25954',\n",
       "  'https://www.kurly.com/shop/goods/goods_view.php?goodsno=54466',\n",
       "  'https://www.kurly.com/shop/goods/goods_view.php?goodsno=42444',\n",
       "  'https://www.kurly.com/shop/goods/goods_view.php?goodsno=49136',\n",
       "  'https://www.kurly.com/shop/goods/goods_view.php?goodsno=53621',\n",
       "  'https://www.kurly.com/shop/goods/goods_view.php?goodsno=41980',\n",
       "  'https://www.kurly.com/shop/goods/goods_view.php?goodsno=48534',\n",
       "  'https://www.kurly.com/shop/goods/goods_view.php?goodsno=41612'],\n",
       " ['https://www.kurly.com/shop/goods/goods_view.php?goodsno=27202',\n",
       "  'https://www.kurly.com/shop/goods/goods_view.php?goodsno=52957',\n",
       "  'https://www.kurly.com/shop/goods/goods_view.php?goodsno=53856',\n",
       "  'https://www.kurly.com/shop/goods/goods_view.php?goodsno=37914',\n",
       "  'https://www.kurly.com/shop/goods/goods_view.php?goodsno=12973',\n",
       "  'https://www.kurly.com/shop/goods/goods_view.php?goodsno=35003',\n",
       "  'https://www.kurly.com/shop/goods/goods_view.php?goodsno=11540',\n",
       "  'https://www.kurly.com/shop/goods/goods_view.php?goodsno=48263',\n",
       "  'https://www.kurly.com/shop/goods/goods_view.php?goodsno=34124',\n",
       "  'https://www.kurly.com/shop/goods/goods_view.php?goodsno=52956',\n",
       "  'https://www.kurly.com/shop/goods/goods_view.php?goodsno=6807',\n",
       "  'https://www.kurly.com/shop/goods/goods_view.php?goodsno=54411',\n",
       "  'https://www.kurly.com/shop/goods/goods_view.php?goodsno=35000',\n",
       "  'https://www.kurly.com/shop/goods/goods_view.php?goodsno=55123',\n",
       "  'https://www.kurly.com/shop/goods/goods_view.php?goodsno=52475',\n",
       "  'https://www.kurly.com/shop/goods/goods_view.php?goodsno=37053'],\n",
       " ['https://www.kurly.com/shop/goods/goods_view.php?goodsno=45277',\n",
       "  'https://www.kurly.com/shop/goods/goods_view.php?goodsno=50422',\n",
       "  'https://www.kurly.com/shop/goods/goods_view.php?goodsno=37914',\n",
       "  'https://www.kurly.com/shop/goods/goods_view.php?goodsno=3446',\n",
       "  'https://www.kurly.com/shop/goods/goods_view.php?goodsno=50056',\n",
       "  'https://www.kurly.com/shop/goods/goods_view.php?goodsno=4778',\n",
       "  'https://www.kurly.com/shop/goods/goods_view.php?goodsno=25861',\n",
       "  'https://www.kurly.com/shop/goods/goods_view.php?goodsno=26854',\n",
       "  'https://www.kurly.com/shop/goods/goods_view.php?goodsno=53702',\n",
       "  'https://www.kurly.com/shop/goods/goods_view.php?goodsno=52202',\n",
       "  'https://www.kurly.com/shop/goods/goods_view.php?goodsno=45278',\n",
       "  'https://www.kurly.com/shop/goods/goods_view.php?goodsno=55130',\n",
       "  'https://www.kurly.com/shop/goods/goods_view.php?goodsno=34250',\n",
       "  'https://www.kurly.com/shop/goods/goods_view.php?goodsno=25862',\n",
       "  'https://www.kurly.com/shop/goods/goods_view.php?goodsno=9879',\n",
       "  'https://www.kurly.com/shop/goods/goods_view.php?goodsno=44113'],\n",
       " ['https://www.kurly.com/shop/goods/goods_view.php?goodsno=50362',\n",
       "  'https://www.kurly.com/shop/goods/goods_view.php?goodsno=30822',\n",
       "  'https://www.kurly.com/shop/goods/goods_view.php?goodsno=51727',\n",
       "  'https://www.kurly.com/shop/goods/goods_view.php?goodsno=51709',\n",
       "  'https://www.kurly.com/shop/goods/goods_view.php?goodsno=42283',\n",
       "  'https://www.kurly.com/shop/goods/goods_view.php?goodsno=27311',\n",
       "  'https://www.kurly.com/shop/goods/goods_view.php?goodsno=9878',\n",
       "  'https://www.kurly.com/shop/goods/goods_view.php?goodsno=51729',\n",
       "  'https://www.kurly.com/shop/goods/goods_view.php?goodsno=51710',\n",
       "  'https://www.kurly.com/shop/goods/goods_view.php?goodsno=27500',\n",
       "  'https://www.kurly.com/shop/goods/goods_view.php?goodsno=43351',\n",
       "  'https://www.kurly.com/shop/goods/goods_view.php?goodsno=9877',\n",
       "  'https://www.kurly.com/shop/goods/goods_view.php?goodsno=3673',\n",
       "  'https://www.kurly.com/shop/goods/goods_view.php?goodsno=27211',\n",
       "  'https://www.kurly.com/shop/goods/goods_view.php?goodsno=51728',\n",
       "  'https://www.kurly.com/shop/goods/goods_view.php?goodsno=9758']]"
      ]
     },
     "execution_count": 62,
     "metadata": {},
     "output_type": "execute_result"
    }
   ],
   "source": [
    "goods_no_detail_list"
   ]
  },
  {
   "cell_type": "markdown",
   "metadata": {},
   "source": [
    "# 상품 디테일 페이지"
   ]
  },
  {
   "cell_type": "code",
   "execution_count": 665,
   "metadata": {},
   "outputs": [],
   "source": [
    "# test code\n",
    "# driver.get('https://www.kurly.com/shop/goods/goods_view.php?&goodsno=51509')\n",
    "driver.get('https://www.kurly.com/shop/goods/goods_view.php?goodsno=34461')"
   ]
  },
  {
   "cell_type": "code",
   "execution_count": 666,
   "metadata": {},
   "outputs": [
    {
     "name": "stdout",
     "output_type": "stream",
     "text": [
      "goods_image https://img-cf.kurly.com/shop/data/goods/155123328443y0.jpg\n"
     ]
    }
   ],
   "source": [
    "goods_image = driver.find_element_by_xpath(\n",
    "    '/html/body/div/div[2]/div[2]/div/div[2]/div[2]/div/div[1]').get_attribute('style')\n",
    "goods_image = goods_image.split('\"')\n",
    "print('goods_image', goods_image[1])"
   ]
  },
  {
   "cell_type": "code",
   "execution_count": 667,
   "metadata": {},
   "outputs": [
    {
     "name": "stdout",
     "output_type": "stream",
     "text": [
      "goods_title 유기농 다진 애호박 60g (냉동)\n"
     ]
    }
   ],
   "source": [
    "goods_title = driver.find_element_by_xpath(\n",
    "    '/html/body/div/div[2]/div[2]/div/div[2]/div[2]/div/p[1]/strong').get_attribute('innerText')\n",
    "print('goods_title', goods_title)"
   ]
  },
  {
   "cell_type": "code",
   "execution_count": 668,
   "metadata": {},
   "outputs": [
    {
     "name": "stdout",
     "output_type": "stream",
     "text": [
      "short_desc 부드럽고 달큰하게 즐기는 영양\n"
     ]
    }
   ],
   "source": [
    "short_desc = driver.find_element_by_xpath(\n",
    "    '/html/body/div/div[2]/div[2]/div/div[2]/div[2]/div/p[1]/span[2]').get_attribute('innerText')\n",
    "print('short_desc', short_desc)"
   ]
  },
  {
   "cell_type": "code",
   "execution_count": 669,
   "metadata": {},
   "outputs": [
    {
     "name": "stdout",
     "output_type": "stream",
     "text": [
      "price result 4300\n"
     ]
    }
   ],
   "source": [
    "try:\n",
    "    # 미 할인 상품\n",
    "    goods_price = driver.find_element_by_xpath(\n",
    "        '/html/body/div/div[2]/div[2]/div/div[2]/div[2]/div/p[2]/span[1]/span/span').get_attribute(\n",
    "        'innerText')\n",
    "except NoSuchElementException:\n",
    "    # 할인 상품\n",
    "    goods_price = driver.find_element_by_xpath(\n",
    "        '/html/body/div/div[2]/div[2]/div/div[2]/div[2]/div/p[3]/span[1]/span[1]/span[1]').get_attribute(\n",
    "        'innerText')\n",
    "\n",
    "price = re.findall('\\d+', goods_price)\n",
    "result = ''\n",
    "for value in price:\n",
    "    result += value\n",
    "print('price result', result)"
   ]
  },
  {
   "cell_type": "code",
   "execution_count": 670,
   "metadata": {},
   "outputs": [
    {
     "name": "stdout",
     "output_type": "stream",
     "text": [
      "goods_each 1개\n"
     ]
    }
   ],
   "source": [
    "goods_each_innerText = driver.find_element_by_xpath(\n",
    "    '/html/body/div/div[2]/div[2]/div/div[2]/div[2]/div/div[2]/dl[1]/dt').get_attribute('innerText')\n",
    "if '판매단위' in goods_each_innerText:\n",
    "    goods_each = driver.find_element_by_xpath(\n",
    "        '/html/body/div/div[2]/div[2]/div/div[2]/div[2]/div/div[2]/dl[1]/dd').get_attribute('innerText')\n",
    "    print('goods_each', goods_each)\n",
    "elif '배송구분' in goods_each_innerText:\n",
    "    transfer = driver.find_element_by_xpath(\n",
    "        '/html/body/div/div[2]/div[2]/div/div[2]/div[2]/div/div[2]/dl[1]/dd').get_attribute('innerText')\n",
    "    print('transfer', transfer)"
   ]
  },
  {
   "cell_type": "code",
   "execution_count": 671,
   "metadata": {},
   "outputs": [
    {
     "name": "stdout",
     "output_type": "stream",
     "text": [
      "goods_each_weight 60g\n"
     ]
    }
   ],
   "source": [
    "goods_each_weight = driver.find_element_by_xpath(\n",
    "    '/html/body/div/div[2]/div[2]/div/div[2]/div[2]/div/div[2]/dl[2]/dd').get_attribute('innerText')\n",
    "print('goods_each_weight', goods_each_weight)"
   ]
  },
  {
   "cell_type": "code",
   "execution_count": 672,
   "metadata": {},
   "outputs": [
    {
     "name": "stdout",
     "output_type": "stream",
     "text": [
      "transfer 샛별배송/택배배송\n"
     ]
    }
   ],
   "source": [
    "# 배송 구분 또는 포장 타입\n",
    "transfer_innerText = driver.find_element_by_xpath(\n",
    "    '/html/body/div/div[2]/div[2]/div/div[2]/div[2]/div/div[2]/dl[3]/dt').get_attribute('innerText')\n",
    "if '배송구분' in transfer_innerText:\n",
    "    transfer = driver.find_element_by_xpath(\n",
    "        '/html/body/div/div[2]/div[2]/div/div[2]/div[2]/div/div[2]/dl[3]/dd').get_attribute('innerText')\n",
    "    print('transfer', transfer)\n",
    "elif '포장타입' in transfer_innerText:\n",
    "    packing = driver.find_element_by_xpath(\n",
    "        '/html/body/div/div[2]/div[2]/div/div[2]/div[2]/div/div[2]/dl[3]').get_attribute('innerText')\n",
    "    print('packing', packing)"
   ]
  },
  {
   "cell_type": "code",
   "execution_count": 673,
   "metadata": {},
   "outputs": [
    {
     "name": "stdout",
     "output_type": "stream",
     "text": [
      "transfer 냉동/종이포장\n",
      "택배배송은 에코포장이 스티로폼으로 대체됩니다.\n"
     ]
    }
   ],
   "source": [
    "goods_origin_innerText = driver.find_element_by_xpath(\n",
    "    '/html/body/div/div[2]/div[2]/div/div[2]/div[2]/div/div[2]/dl[4]/dt').get_attribute('innerText')\n",
    "# print(goods_origin_innerText)\n",
    "if '원산지' in goods_origin_innerText:\n",
    "    goods_origin = driver.find_element_by_xpath(\n",
    "        '/html/body/div/div[2]/div[2]/div/div[2]/div[2]/div/div[2]/dl[4]/dd').get_attribute('innerText')\n",
    "    print('goods_origin', goods_origin)\n",
    "elif '포장타입' in goods_origin_innerText:\n",
    "    packing = driver.find_element_by_xpath(\n",
    "        '/html/body/div/div[2]/div[2]/div/div[2]/div[2]/div/div[2]/dl[4]/dd').get_attribute('innerText')\n",
    "    print('transfer', packing)"
   ]
  },
  {
   "cell_type": "code",
   "execution_count": 674,
   "metadata": {},
   "outputs": [
    {
     "name": "stdout",
     "output_type": "stream",
     "text": [
      "allergy - 호두, 땅콩, 대두, 버터(우유), 밀과 같은 시설에서 제조\n"
     ]
    }
   ],
   "source": [
    "# 포장 정보 또는 알레르기\n",
    "try:\n",
    "    goods_packing_innerText = driver.find_element_by_xpath(\n",
    "        '/html/body/div/div[2]/div[2]/div/div[2]/div[2]/div/div[2]/dl[5]/dt').get_attribute('innerText')\n",
    "    if '포장' in goods_packing_innerText:\n",
    "        packing = driver.find_element_by_xpath(\n",
    "            '/html/body/div/div[2]/div[2]/div/div[2]/div[2]/div/div[2]/dl[5]/dd').get_attribute('innerText')\n",
    "        print('packing', packing)\n",
    "    elif '알레르기' in goods_packing_innerText:\n",
    "        allergy = driver.find_element_by_xpath(\n",
    "            '/html/body/div/div[2]/div[2]/div/div[2]/div[2]/div/div[2]/dl[5]/dd').get_attribute('innerText')\n",
    "        print('allergy', allergy)\n",
    "except NoSuchElementException:\n",
    "    packing = None\n",
    "    allergy = None"
   ]
  },
  {
   "cell_type": "code",
   "execution_count": 675,
   "metadata": {},
   "outputs": [],
   "source": [
    "# 안내사항, 유통기한, 안내사항\n",
    "try:\n",
    "\n",
    "    goods_info_innerText = driver.find_element_by_xpath(\n",
    "        '/html/body/div/div[2]/div[2]/div/div[2]/div[2]/div/div[2]/dl[6]/dt').get_attribute('innerText')\n",
    "    if '안내' in goods_info_innerText:\n",
    "        info = driver.find_element_by_xpath(\n",
    "            '/html/body/div/div[2]/div[2]/div/div[2]/div[2]/div/div[2]/dl[6]/dd').get_attribute('innerText')\n",
    "        print('info', info)\n",
    "    elif '유통기한' in goods_info_innerText:\n",
    "        expiration = driver.find_element_by_xpath(\n",
    "            '/html/body/div/div[2]/div[2]/div/div[2]/div[2]/div/div[2]/dl[6]/dd').get_attribute('innerText')\n",
    "        print('expiration', expiration)\n",
    "    elif '알레르기정보' in goods_info_innerText:\n",
    "        allergy = driver.find_element_by_xpath(\n",
    "            '/html/body/div/div[2]/div[2]/div/div[2]/div[2]/div/div[2]/dl[6]/dd').get_attribute('innerText')\n",
    "        print('allergy', allergy)\n",
    "except NoSuchElementException:\n",
    "    info = None\n",
    "    expiration = None\n",
    "    allergy = None"
   ]
  },
  {
   "cell_type": "code",
   "execution_count": 676,
   "metadata": {},
   "outputs": [
    {
     "name": "stdout",
     "output_type": "stream",
     "text": [
      "image_one https://img-cf.kurly.com/shop/data/goodsview/20190227/gv40000043876_1.jpg\n"
     ]
    }
   ],
   "source": [
    "image_one = driver.find_element_by_xpath(\n",
    "    '/html/body/div/div[2]/div[2]/div/div[3]/div/div[1]/div/div/div[1]/img').get_attribute('src')\n",
    "print('image_one', image_one)"
   ]
  },
  {
   "cell_type": "code",
   "execution_count": 677,
   "metadata": {},
   "outputs": [
    {
     "name": "stdout",
     "output_type": "stream",
     "text": [
      "text_one_title 부드럽고 달큰하게 즐기는 영양\n"
     ]
    }
   ],
   "source": [
    "text_one_title = driver.find_element_by_xpath(\n",
    "    '//*[@id=\"goods-description\"]/div/div[1]/div[2]/h3/small').get_attribute('innerText')\n",
    "print('text_one_title', text_one_title)"
   ]
  },
  {
   "cell_type": "code",
   "execution_count": 678,
   "metadata": {},
   "outputs": [
    {
     "name": "stdout",
     "output_type": "stream",
     "text": [
      "text_one_context 유기농 다진 애호박 \n"
     ]
    }
   ],
   "source": [
    "text_one_context_dummy = driver.find_element_by_xpath(\n",
    "    '//*[@id=\"goods-description\"]/div/div[1]/div[2]/h3').get_attribute('innerText')\n",
    "\n",
    "text_one_context_dummy = text_one_context_dummy.split('\\n')\n",
    "text_one_context = ''\n",
    "for i in text_one_context_dummy[1:]:\n",
    "    text_one_context += i + ' '\n",
    "print('text_one_context', text_one_context)"
   ]
  },
  {
   "cell_type": "code",
   "execution_count": 679,
   "metadata": {},
   "outputs": [
    {
     "name": "stdout",
     "output_type": "stream",
     "text": [
      "text_one_description 우리 아이가 먹는 음식인 만큼 꼼꼼히 좋은 재료를 골라 정성들여 요리하고 싶은 것이 엄마 아빠의 마음이죠. 하지만 재료를 하나하나 엄선해 손질하고 요리하기란 쉽지 않아요. 어떤 재료를 선택하느냐에 따라 손질에만 꼬박 하루가 걸리기도 하니깐요. 일과 육아를 병행해야 하는 분들이라면 더욱 고민이 될 텐데요. 컬리는 이런 걱정을 덜어줄 다진 애호박을 준비했어요.\n",
      "\n",
      "애호박은 각종 비타민과 영양소가 풍부한 채소예요. 소화흡수가 잘되기 때문에 아이들 음식에 사용하기 좋고요. 다양한 요리에 활용할 수 있어요. 신선한 유기농 애호박을 깨끗하게 세척한 후, 잘게 다져 한 번에 쓰기 좋게 15g씩 4개의 블록으로 나누어 담았어요. 사용하실 때 포크로 눌러주면 블록을 손쉽게 분리해 사용할 수 있습니다. 남은 애호박은 냉동실에 다시 보관하셨다가 필요할 때마다 꺼내어 사용하시면 돼요.\n"
     ]
    }
   ],
   "source": [
    "text_one_description = driver.find_element_by_xpath(\n",
    "    '//*[@id=\"goods-description\"]/div/div[1]/div[2]/p').get_attribute('innerText')\n",
    "print('text_one_description', text_one_description)"
   ]
  },
  {
   "cell_type": "code",
   "execution_count": 680,
   "metadata": {},
   "outputs": [
    {
     "name": "stdout",
     "output_type": "stream",
     "text": [
      "check_point_image https://img-cf.kurly.com/shop/data/goodsview/20190227/gv10000043877_1.jpg\n"
     ]
    }
   ],
   "source": [
    "try:\n",
    "    check_point_image = driver.find_element_by_xpath(\n",
    "        '//*[@id=\"goods-description\"]/div/div/div/div/img').get_attribute('src')\n",
    "    print('check_point_image', check_point_image)\n",
    "except NoSuchElementException:\n",
    "    check_point_image = None"
   ]
  },
  {
   "cell_type": "code",
   "execution_count": 681,
   "metadata": {},
   "outputs": [
    {
     "name": "stdout",
     "output_type": "stream",
     "text": [
      "info_image https://img-cf.kurly.com/shop/data/goodsview/20190619/gv10000053520_1.jpg\n"
     ]
    }
   ],
   "source": [
    "info_image = driver.find_element_by_xpath(\n",
    "    '/html/body/div/div[2]/div[2]/div/div[3]/div/div[2]/div/p/img').get_attribute('src')\n",
    "print('info_image', info_image)"
   ]
  },
  {
   "cell_type": "markdown",
   "metadata": {},
   "source": [
    "# 상세 정보"
   ]
  },
  {
   "cell_type": "code",
   "execution_count": 737,
   "metadata": {},
   "outputs": [],
   "source": [
    "var_titles = driver.find_elements_by_xpath('//*[@id=\"goods-infomation\"]/table/tbody/tr/th')\n",
    "var_descs = driver.find_elements_by_xpath('//*[@id=\"goods-infomation\"]/table/tbody/tr/td')\n"
   ]
  },
  {
   "cell_type": "code",
   "execution_count": 738,
   "metadata": {},
   "outputs": [
    {
     "name": "stdout",
     "output_type": "stream",
     "text": [
      "식품의유형\n",
      "상품설명 및 상품이미지 참조 \n",
      "\n",
      "생산자및소재지(수입품의경우생산자,수입자및제조국)\n",
      "상품설명 및 상품이미지 참조 \n",
      "\n",
      "제조연월일,유통기한또는품질유지기한\n",
      "제품 별도 라벨 표기 참조 \n",
      "\n",
      "포장단위별용량(중량),수량\n",
      "상품설명 및 상품이미지 참조 \n",
      "\n",
      "원재료명및함량(농수산물의원산지표시에관한법률에따른원산지표시포함)\n",
      "상품설명 및 상품이미지 참조 \n",
      "\n",
      "영양성분(식품위생법에따른영양성분표시대상식품에한함)\n",
      "상품설명 및 상품이미지 참조 \n",
      "\n",
      "유전자변형식품에해당하는경우의표시\n",
      "해당사항 없음 \n",
      "\n",
      "영유아식또는체중조절식품등에해당하는경우표시광고사전심의필유무및부작용발생가능성\n",
      "해당사항 없음 \n",
      "\n",
      "수입식품에해당하는경우“식품위생법에따른수입신고를필함＂의문구\n",
      "식품위생법에 따른 수입신고를 필함 \n",
      "\n",
      "소비자상담관련전화번호\n",
      "마켓컬리 고객행복센터 (1644-1107) \n",
      "\n"
     ]
    },
    {
     "name": "stderr",
     "output_type": "stream",
     "text": [
      "<>:5: SyntaxWarning: \"is\" with a literal. Did you mean \"==\"?\n",
      "<>:5: SyntaxWarning: \"is\" with a literal. Did you mean \"==\"?\n",
      "<ipython-input-738-86e7cfb26024>:5: SyntaxWarning: \"is\" with a literal. Did you mean \"==\"?\n",
      "  if len(var_titles) is 0:\n"
     ]
    }
   ],
   "source": [
    "for index, desc in enumerate(var_descs):\n",
    "    title = var_titles[index].get_attribute('innerText')\n",
    "    print(title)\n",
    "    print(desc.get_attribute('innerText'), '\\n')\n",
    "if len(var_titles) is 0:\n",
    "    pass"
   ]
  },
  {
   "cell_type": "code",
   "execution_count": 721,
   "metadata": {},
   "outputs": [
    {
     "data": {
      "text/plain": [
       "'유통기한'"
      ]
     },
     "execution_count": 721,
     "metadata": {},
     "output_type": "execute_result"
    }
   ],
   "source": [
    "var_titles[1].get_attribute('innerText')"
   ]
  },
  {
   "cell_type": "code",
   "execution_count": 37,
   "metadata": {},
   "outputs": [],
   "source": [
    "var_titles = driver.find_elements_by_xpath('//*[@id=\"goods-infomation\"]/table/tbody/tr/th')\n",
    "\n",
    "var_descs = driver.find_elements_by_xpath('//*[@id=\"goods-infomation\"]/table/tbody/tr/td')"
   ]
  },
  {
   "cell_type": "code",
   "execution_count": 39,
   "metadata": {},
   "outputs": [
    {
     "name": "stdout",
     "output_type": "stream",
     "text": [
      "포장단위별 용량(중량), 수량, 크기\n",
      "1봉/200g \n",
      "\n",
      "관련법상 표시사항\n",
      "GAP, 무농약 인증 \n",
      "\n",
      "생산자, 수입품의 경우 수입자를 함께 표기\n",
      "제품 별도 라벨 표기 참조 \n",
      "\n",
      "상품구성\n",
      "무농약 콩나물 \n",
      "\n",
      "농수산물의 원산지 표시에 관한 법률에 따른 원산지\n",
      "국산 \n",
      "\n",
      "보관방법 또는 취급방법\n",
      "냉장 보관 \n",
      "\n",
      "제조연월일(포장일 또는 생산연도), 유통기한 또는 품질유지기한\n",
      "제품 별도 라벨 표기 참조 \n",
      "\n",
      "소비자상담 관련 전화번호\n",
      "마켓컬리 고객행복센터(1644-1107) \n",
      "\n"
     ]
    }
   ],
   "source": [
    "for var_detail_title, var_detail_desc in zip(var_titles, var_descs):\n",
    "    print(var_detail_title.get_attribute('innerText'))\n",
    "    print(var_detail_desc.get_attribute('innerText'), '\\n')\n"
   ]
  },
  {
   "cell_type": "code",
   "execution_count": null,
   "metadata": {},
   "outputs": [],
   "source": []
  }
 ],
 "metadata": {
  "kernelspec": {
   "display_name": "Python 3",
   "language": "python",
   "name": "python3"
  },
  "language_info": {
   "codemirror_mode": {
    "name": "ipython",
    "version": 3
   },
   "file_extension": ".py",
   "mimetype": "text/x-python",
   "name": "python",
   "nbconvert_exporter": "python",
   "pygments_lexer": "ipython3",
   "version": "3.8.2"
  }
 },
 "nbformat": 4,
 "nbformat_minor": 4
}
