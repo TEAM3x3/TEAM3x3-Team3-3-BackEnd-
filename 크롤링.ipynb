{
 "cells": [
  {
   "cell_type": "markdown",
   "metadata": {},
   "source": [
    "# 카테고리 리스트"
   ]
  },
  {
   "cell_type": "code",
   "execution_count": 10,
   "metadata": {},
   "outputs": [],
   "source": [
    "import requests\n",
    "from django.core.files import File\n",
    "from selenium import webdriver\n",
    "import time\n",
    "import datetime\n",
    "import re\n",
    "from selenium.common.exceptions import NoSuchElementException\n",
    "from bs4 import BeautifulSoup\n",
    "\n"
   ]
  },
  {
   "cell_type": "code",
   "execution_count": 11,
   "metadata": {},
   "outputs": [],
   "source": [
    "driver = webdriver.Chrome('/Users/mac/projects/ChromeWebDriver/chromedriver')"
   ]
  },
  {
   "cell_type": "code",
   "execution_count": 12,
   "metadata": {},
   "outputs": [],
   "source": [
    "category_list = [\n",
    "    'https://www.kurly.com/shop/goods/goods_list.php?category=907',\n",
    "    'https://www.kurly.com/shop/goods/goods_list.php?category=908',\n",
    "    'https://www.kurly.com/shop/goods/goods_list.php?category=909',\n",
    "    'https://www.kurly.com/shop/goods/goods_list.php?category=910',\n",
    "    'https://www.kurly.com/shop/goods/goods_list.php?category=911',\n",
    "    'https://www.kurly.com/shop/goods/goods_list.php?category=912',\n",
    "    'https://www.kurly.com/shop/goods/goods_list.php?category=913',\n",
    "    'https://www.kurly.com/shop/goods/goods_list.php?category=914',\n",
    "    'https://www.kurly.com/shop/goods/goods_list.php?category=915',\n",
    "    'https://www.kurly.com/shop/goods/goods_list.php?category=032',\n",
    "    'https://www.kurly.com/shop/goods/goods_list.php?category=918',\n",
    "    'https://www.kurly.com/shop/goods/goods_list.php?category=012',\n",
    "    'https://www.kurly.com/shop/goods/goods_list.php?category=916',\n",
    "    'https://www.kurly.com/shop/goods/goods_list.php?category=085',\n",
    "    'https://www.kurly.com/shop/goods/goods_list.php?category=919',\n",
    "    'https://www.kurly.com/shop/goods/goods_list.php?category=991',\n",
    "]"
   ]
  },
  {
   "cell_type": "code",
   "execution_count": 19,
   "metadata": {},
   "outputs": [],
   "source": [
    "# test code\n",
    "driver.get('https://www.kurly.com/shop/goods/goods_list.php?category=910')"
   ]
  },
  {
   "cell_type": "code",
   "execution_count": 21,
   "metadata": {},
   "outputs": [
    {
     "data": {
      "text/plain": [
       "'정육·계란'"
      ]
     },
     "execution_count": 21,
     "metadata": {},
     "output_type": "execute_result"
    }
   ],
   "source": [
    "# 카테고리 이름\n",
    "category_name = driver.find_element_by_xpath('/html/body/div[1]/div[2]/div[2]/div/div[2]/div[1]/div[2]/div/span[2]').get_attribute('innerText')\n",
    "category_name"
   ]
  },
  {
   "cell_type": "code",
   "execution_count": 22,
   "metadata": {},
   "outputs": [
    {
     "name": "stdout",
     "output_type": "stream",
     "text": [
      "2\n",
      "소고기\n",
      "3\n",
      "돼지고기\n",
      "4\n",
      "계란류\n",
      "5\n",
      "닭·오리고기\n",
      "6\n",
      "양념육·돈까스\n",
      "7\n",
      "양고기\n"
     ]
    }
   ],
   "source": [
    "types = driver.find_elements_by_xpath('/html/body/div[1]/div[2]/div[2]/div/div[2]/div[1]/div[2]/ul/li')\n",
    "type_name_list = []\n",
    "goods_no_detail_list = []\n",
    "for index in range(1, len(types)):\n",
    "    current_time = datetime.datetime.now()\n",
    "    if index == 1:\n",
    "        continue\n",
    "    \n",
    "    print(index)\n",
    "    # category_types_list\n",
    "    button = driver.find_element_by_xpath(f'/html/body/div[1]/div[2]/div[2]/div/div[2]/div[1]/div[2]/ul/li[{index}]/a')\n",
    "    driver.execute_script(\"arguments[0].click();\", button)\n",
    "\n",
    "    time.sleep(4)\n",
    "    type_name = driver.find_element_by_xpath(f'/html/body/div[1]/div[2]/div[2]/div/div[2]/div[1]/div[2]/ul/li[{index}]/a').get_attribute('innerText')\n",
    "    print(type_name)\n",
    "    type_name_list.append(type_name)\n",
    "    \n",
    "    # 각 타입 별 디테일 페이지 url\n",
    "    goods_detail_urls = driver.find_elements_by_xpath('/html/body/div[1]/div[2]/div[2]/div/div[2]/div[2]/div[2]/div/ul/li/div/div/div/button/span')\n",
    "    goodsNoList = []\n",
    "    for index in goods_detail_urls:\n",
    "        no = index.get_attribute('innerText')\n",
    "        if '재고' in no:\n",
    "            continue\n",
    "        goodsNoList.append(f'https://www.kurly.com/shop/goods/goods_view.php?goodsno={no}')\n",
    "    goods_no_detail_list.append(goodsNoList)\n",
    "        "
   ]
  },
  {
   "cell_type": "code",
   "execution_count": 23,
   "metadata": {
    "scrolled": true
   },
   "outputs": [
    {
     "data": {
      "text/plain": [
       "['소고기', '돼지고기', '계란류', '닭·오리고기', '양념육·돈까스', '양고기']"
      ]
     },
     "execution_count": 23,
     "metadata": {},
     "output_type": "execute_result"
    }
   ],
   "source": [
    "type_name_list"
   ]
  },
  {
   "cell_type": "code",
   "execution_count": 24,
   "metadata": {},
   "outputs": [
    {
     "data": {
      "text/plain": [
       "6"
      ]
     },
     "execution_count": 24,
     "metadata": {},
     "output_type": "execute_result"
    }
   ],
   "source": [
    "len(goods_no_detail_list)"
   ]
  },
  {
   "cell_type": "code",
   "execution_count": 25,
   "metadata": {
    "scrolled": true
   },
   "outputs": [
    {
     "data": {
      "text/plain": [
       "[['https://www.kurly.com/shop/goods/goods_view.php?goodsno=56504',\n",
       "  'https://www.kurly.com/shop/goods/goods_view.php?goodsno=54278',\n",
       "  'https://www.kurly.com/shop/goods/goods_view.php?goodsno=54276',\n",
       "  'https://www.kurly.com/shop/goods/goods_view.php?goodsno=56265',\n",
       "  'https://www.kurly.com/shop/goods/goods_view.php?goodsno=56010',\n",
       "  'https://www.kurly.com/shop/goods/goods_view.php?goodsno=55674',\n",
       "  'https://www.kurly.com/shop/goods/goods_view.php?goodsno=54277',\n",
       "  'https://www.kurly.com/shop/goods/goods_view.php?goodsno=54880',\n",
       "  'https://www.kurly.com/shop/goods/goods_view.php?goodsno=54449',\n",
       "  'https://www.kurly.com/shop/goods/goods_view.php?goodsno=54447',\n",
       "  'https://www.kurly.com/shop/goods/goods_view.php?goodsno=54440',\n",
       "  'https://www.kurly.com/shop/goods/goods_view.php?goodsno=54438',\n",
       "  'https://www.kurly.com/shop/goods/goods_view.php?goodsno=54430',\n",
       "  'https://www.kurly.com/shop/goods/goods_view.php?goodsno=54434',\n",
       "  'https://www.kurly.com/shop/goods/goods_view.php?goodsno=54435',\n",
       "  'https://www.kurly.com/shop/goods/goods_view.php?goodsno=54436',\n",
       "  'https://www.kurly.com/shop/goods/goods_view.php?goodsno=54437',\n",
       "  'https://www.kurly.com/shop/goods/goods_view.php?goodsno=54432',\n",
       "  'https://www.kurly.com/shop/goods/goods_view.php?goodsno=54433',\n",
       "  'https://www.kurly.com/shop/goods/goods_view.php?goodsno=54431',\n",
       "  'https://www.kurly.com/shop/goods/goods_view.php?goodsno=54397',\n",
       "  'https://www.kurly.com/shop/goods/goods_view.php?goodsno=54395',\n",
       "  'https://www.kurly.com/shop/goods/goods_view.php?goodsno=54394',\n",
       "  'https://www.kurly.com/shop/goods/goods_view.php?goodsno=54175',\n",
       "  'https://www.kurly.com/shop/goods/goods_view.php?goodsno=54033',\n",
       "  'https://www.kurly.com/shop/goods/goods_view.php?goodsno=53953',\n",
       "  'https://www.kurly.com/shop/goods/goods_view.php?goodsno=53951',\n",
       "  'https://www.kurly.com/shop/goods/goods_view.php?goodsno=53950',\n",
       "  'https://www.kurly.com/shop/goods/goods_view.php?goodsno=53914',\n",
       "  'https://www.kurly.com/shop/goods/goods_view.php?goodsno=53913',\n",
       "  'https://www.kurly.com/shop/goods/goods_view.php?goodsno=53912',\n",
       "  'https://www.kurly.com/shop/goods/goods_view.php?goodsno=53908',\n",
       "  'https://www.kurly.com/shop/goods/goods_view.php?goodsno=53907',\n",
       "  'https://www.kurly.com/shop/goods/goods_view.php?goodsno=53906',\n",
       "  'https://www.kurly.com/shop/goods/goods_view.php?goodsno=53823',\n",
       "  'https://www.kurly.com/shop/goods/goods_view.php?goodsno=53822',\n",
       "  'https://www.kurly.com/shop/goods/goods_view.php?goodsno=53816',\n",
       "  'https://www.kurly.com/shop/goods/goods_view.php?goodsno=53815',\n",
       "  'https://www.kurly.com/shop/goods/goods_view.php?goodsno=53814',\n",
       "  'https://www.kurly.com/shop/goods/goods_view.php?goodsno=53813',\n",
       "  'https://www.kurly.com/shop/goods/goods_view.php?goodsno=53812',\n",
       "  'https://www.kurly.com/shop/goods/goods_view.php?goodsno=49973',\n",
       "  'https://www.kurly.com/shop/goods/goods_view.php?goodsno=52744',\n",
       "  'https://www.kurly.com/shop/goods/goods_view.php?goodsno=52742',\n",
       "  'https://www.kurly.com/shop/goods/goods_view.php?goodsno=52551',\n",
       "  'https://www.kurly.com/shop/goods/goods_view.php?goodsno=52350',\n",
       "  'https://www.kurly.com/shop/goods/goods_view.php?goodsno=52349',\n",
       "  'https://www.kurly.com/shop/goods/goods_view.php?goodsno=52223',\n",
       "  'https://www.kurly.com/shop/goods/goods_view.php?goodsno=52225',\n",
       "  'https://www.kurly.com/shop/goods/goods_view.php?goodsno=52224',\n",
       "  'https://www.kurly.com/shop/goods/goods_view.php?goodsno=51980',\n",
       "  'https://www.kurly.com/shop/goods/goods_view.php?goodsno=51440',\n",
       "  'https://www.kurly.com/shop/goods/goods_view.php?goodsno=51439',\n",
       "  'https://www.kurly.com/shop/goods/goods_view.php?goodsno=51438',\n",
       "  'https://www.kurly.com/shop/goods/goods_view.php?goodsno=51437',\n",
       "  'https://www.kurly.com/shop/goods/goods_view.php?goodsno=51436',\n",
       "  'https://www.kurly.com/shop/goods/goods_view.php?goodsno=51050',\n",
       "  'https://www.kurly.com/shop/goods/goods_view.php?goodsno=51048',\n",
       "  'https://www.kurly.com/shop/goods/goods_view.php?goodsno=51049',\n",
       "  'https://www.kurly.com/shop/goods/goods_view.php?goodsno=51042',\n",
       "  'https://www.kurly.com/shop/goods/goods_view.php?goodsno=50083',\n",
       "  'https://www.kurly.com/shop/goods/goods_view.php?goodsno=50082',\n",
       "  'https://www.kurly.com/shop/goods/goods_view.php?goodsno=50072',\n",
       "  'https://www.kurly.com/shop/goods/goods_view.php?goodsno=50071',\n",
       "  'https://www.kurly.com/shop/goods/goods_view.php?goodsno=50063',\n",
       "  'https://www.kurly.com/shop/goods/goods_view.php?goodsno=49975',\n",
       "  'https://www.kurly.com/shop/goods/goods_view.php?goodsno=49974',\n",
       "  'https://www.kurly.com/shop/goods/goods_view.php?goodsno=49699',\n",
       "  'https://www.kurly.com/shop/goods/goods_view.php?goodsno=49698',\n",
       "  'https://www.kurly.com/shop/goods/goods_view.php?goodsno=49697',\n",
       "  'https://www.kurly.com/shop/goods/goods_view.php?goodsno=49696',\n",
       "  'https://www.kurly.com/shop/goods/goods_view.php?goodsno=49695',\n",
       "  'https://www.kurly.com/shop/goods/goods_view.php?goodsno=49694',\n",
       "  'https://www.kurly.com/shop/goods/goods_view.php?goodsno=49693',\n",
       "  'https://www.kurly.com/shop/goods/goods_view.php?goodsno=49692',\n",
       "  'https://www.kurly.com/shop/goods/goods_view.php?goodsno=49621',\n",
       "  'https://www.kurly.com/shop/goods/goods_view.php?goodsno=49319',\n",
       "  'https://www.kurly.com/shop/goods/goods_view.php?goodsno=49318',\n",
       "  'https://www.kurly.com/shop/goods/goods_view.php?goodsno=49317',\n",
       "  'https://www.kurly.com/shop/goods/goods_view.php?goodsno=49316',\n",
       "  'https://www.kurly.com/shop/goods/goods_view.php?goodsno=49295',\n",
       "  'https://www.kurly.com/shop/goods/goods_view.php?goodsno=49293',\n",
       "  'https://www.kurly.com/shop/goods/goods_view.php?goodsno=49292',\n",
       "  'https://www.kurly.com/shop/goods/goods_view.php?goodsno=48562',\n",
       "  'https://www.kurly.com/shop/goods/goods_view.php?goodsno=48561',\n",
       "  'https://www.kurly.com/shop/goods/goods_view.php?goodsno=48104',\n",
       "  'https://www.kurly.com/shop/goods/goods_view.php?goodsno=47958',\n",
       "  'https://www.kurly.com/shop/goods/goods_view.php?goodsno=47859',\n",
       "  'https://www.kurly.com/shop/goods/goods_view.php?goodsno=47858',\n",
       "  'https://www.kurly.com/shop/goods/goods_view.php?goodsno=47716',\n",
       "  'https://www.kurly.com/shop/goods/goods_view.php?goodsno=47717',\n",
       "  'https://www.kurly.com/shop/goods/goods_view.php?goodsno=47718',\n",
       "  'https://www.kurly.com/shop/goods/goods_view.php?goodsno=47714',\n",
       "  'https://www.kurly.com/shop/goods/goods_view.php?goodsno=47715',\n",
       "  'https://www.kurly.com/shop/goods/goods_view.php?goodsno=47713',\n",
       "  'https://www.kurly.com/shop/goods/goods_view.php?goodsno=47712',\n",
       "  'https://www.kurly.com/shop/goods/goods_view.php?goodsno=45881',\n",
       "  'https://www.kurly.com/shop/goods/goods_view.php?goodsno=45880',\n",
       "  'https://www.kurly.com/shop/goods/goods_view.php?goodsno=44519'],\n",
       " [],\n",
       " ['https://www.kurly.com/shop/goods/goods_view.php?goodsno=48529',\n",
       "  'https://www.kurly.com/shop/goods/goods_view.php?goodsno=51888',\n",
       "  'https://www.kurly.com/shop/goods/goods_view.php?goodsno=51890',\n",
       "  'https://www.kurly.com/shop/goods/goods_view.php?goodsno=51889',\n",
       "  'https://www.kurly.com/shop/goods/goods_view.php?goodsno=53113',\n",
       "  'https://www.kurly.com/shop/goods/goods_view.php?goodsno=50569',\n",
       "  'https://www.kurly.com/shop/goods/goods_view.php?goodsno=48168',\n",
       "  'https://www.kurly.com/shop/goods/goods_view.php?goodsno=41405',\n",
       "  'https://www.kurly.com/shop/goods/goods_view.php?goodsno=41404',\n",
       "  'https://www.kurly.com/shop/goods/goods_view.php?goodsno=41773',\n",
       "  'https://www.kurly.com/shop/goods/goods_view.php?goodsno=41772',\n",
       "  'https://www.kurly.com/shop/goods/goods_view.php?goodsno=41764',\n",
       "  'https://www.kurly.com/shop/goods/goods_view.php?goodsno=40907',\n",
       "  'https://www.kurly.com/shop/goods/goods_view.php?goodsno=38290',\n",
       "  'https://www.kurly.com/shop/goods/goods_view.php?goodsno=38008',\n",
       "  'https://www.kurly.com/shop/goods/goods_view.php?goodsno=37933',\n",
       "  'https://www.kurly.com/shop/goods/goods_view.php?goodsno=34943',\n",
       "  'https://www.kurly.com/shop/goods/goods_view.php?goodsno=34030',\n",
       "  'https://www.kurly.com/shop/goods/goods_view.php?goodsno=31279',\n",
       "  'https://www.kurly.com/shop/goods/goods_view.php?goodsno=31278',\n",
       "  'https://www.kurly.com/shop/goods/goods_view.php?goodsno=31086',\n",
       "  'https://www.kurly.com/shop/goods/goods_view.php?goodsno=12659',\n",
       "  'https://www.kurly.com/shop/goods/goods_view.php?goodsno=12658',\n",
       "  'https://www.kurly.com/shop/goods/goods_view.php?goodsno=30091',\n",
       "  'https://www.kurly.com/shop/goods/goods_view.php?goodsno=27758',\n",
       "  'https://www.kurly.com/shop/goods/goods_view.php?goodsno=29850',\n",
       "  'https://www.kurly.com/shop/goods/goods_view.php?goodsno=29849',\n",
       "  'https://www.kurly.com/shop/goods/goods_view.php?goodsno=6445',\n",
       "  'https://www.kurly.com/shop/goods/goods_view.php?goodsno=12642',\n",
       "  'https://www.kurly.com/shop/goods/goods_view.php?goodsno=25583',\n",
       "  'https://www.kurly.com/shop/goods/goods_view.php?goodsno=13199',\n",
       "  'https://www.kurly.com/shop/goods/goods_view.php?goodsno=4458',\n",
       "  'https://www.kurly.com/shop/goods/goods_view.php?goodsno=3576',\n",
       "  'https://www.kurly.com/shop/goods/goods_view.php?goodsno=226',\n",
       "  'https://www.kurly.com/shop/goods/goods_view.php?goodsno=93'],\n",
       " ['https://www.kurly.com/shop/goods/goods_view.php?goodsno=55295',\n",
       "  'https://www.kurly.com/shop/goods/goods_view.php?goodsno=54190',\n",
       "  'https://www.kurly.com/shop/goods/goods_view.php?goodsno=54067',\n",
       "  'https://www.kurly.com/shop/goods/goods_view.php?goodsno=54191',\n",
       "  'https://www.kurly.com/shop/goods/goods_view.php?goodsno=50290',\n",
       "  'https://www.kurly.com/shop/goods/goods_view.php?goodsno=52477',\n",
       "  'https://www.kurly.com/shop/goods/goods_view.php?goodsno=52101',\n",
       "  'https://www.kurly.com/shop/goods/goods_view.php?goodsno=52100',\n",
       "  'https://www.kurly.com/shop/goods/goods_view.php?goodsno=51141',\n",
       "  'https://www.kurly.com/shop/goods/goods_view.php?goodsno=49819',\n",
       "  'https://www.kurly.com/shop/goods/goods_view.php?goodsno=49822',\n",
       "  'https://www.kurly.com/shop/goods/goods_view.php?goodsno=48567',\n",
       "  'https://www.kurly.com/shop/goods/goods_view.php?goodsno=48566',\n",
       "  'https://www.kurly.com/shop/goods/goods_view.php?goodsno=48565',\n",
       "  'https://www.kurly.com/shop/goods/goods_view.php?goodsno=48564',\n",
       "  'https://www.kurly.com/shop/goods/goods_view.php?goodsno=48563',\n",
       "  'https://www.kurly.com/shop/goods/goods_view.php?goodsno=47887',\n",
       "  'https://www.kurly.com/shop/goods/goods_view.php?goodsno=44534',\n",
       "  'https://www.kurly.com/shop/goods/goods_view.php?goodsno=45242',\n",
       "  'https://www.kurly.com/shop/goods/goods_view.php?goodsno=43156',\n",
       "  'https://www.kurly.com/shop/goods/goods_view.php?goodsno=43155',\n",
       "  'https://www.kurly.com/shop/goods/goods_view.php?goodsno=42329',\n",
       "  'https://www.kurly.com/shop/goods/goods_view.php?goodsno=42327',\n",
       "  'https://www.kurly.com/shop/goods/goods_view.php?goodsno=38114',\n",
       "  'https://www.kurly.com/shop/goods/goods_view.php?goodsno=38117',\n",
       "  'https://www.kurly.com/shop/goods/goods_view.php?goodsno=38120',\n",
       "  'https://www.kurly.com/shop/goods/goods_view.php?goodsno=36870',\n",
       "  'https://www.kurly.com/shop/goods/goods_view.php?goodsno=36869',\n",
       "  'https://www.kurly.com/shop/goods/goods_view.php?goodsno=36430',\n",
       "  'https://www.kurly.com/shop/goods/goods_view.php?goodsno=34584',\n",
       "  'https://www.kurly.com/shop/goods/goods_view.php?goodsno=30119',\n",
       "  'https://www.kurly.com/shop/goods/goods_view.php?goodsno=30118',\n",
       "  'https://www.kurly.com/shop/goods/goods_view.php?goodsno=30117',\n",
       "  'https://www.kurly.com/shop/goods/goods_view.php?goodsno=30116',\n",
       "  'https://www.kurly.com/shop/goods/goods_view.php?goodsno=30115',\n",
       "  'https://www.kurly.com/shop/goods/goods_view.php?goodsno=30114',\n",
       "  'https://www.kurly.com/shop/goods/goods_view.php?goodsno=30113',\n",
       "  'https://www.kurly.com/shop/goods/goods_view.php?goodsno=30112',\n",
       "  'https://www.kurly.com/shop/goods/goods_view.php?goodsno=26847',\n",
       "  'https://www.kurly.com/shop/goods/goods_view.php?goodsno=6940',\n",
       "  'https://www.kurly.com/shop/goods/goods_view.php?goodsno=26170',\n",
       "  'https://www.kurly.com/shop/goods/goods_view.php?goodsno=25542',\n",
       "  'https://www.kurly.com/shop/goods/goods_view.php?goodsno=6227',\n",
       "  'https://www.kurly.com/shop/goods/goods_view.php?goodsno=10134',\n",
       "  'https://www.kurly.com/shop/goods/goods_view.php?goodsno=6971',\n",
       "  'https://www.kurly.com/shop/goods/goods_view.php?goodsno=5279',\n",
       "  'https://www.kurly.com/shop/goods/goods_view.php?goodsno=4957',\n",
       "  'https://www.kurly.com/shop/goods/goods_view.php?goodsno=4956',\n",
       "  'https://www.kurly.com/shop/goods/goods_view.php?goodsno=4704',\n",
       "  'https://www.kurly.com/shop/goods/goods_view.php?goodsno=4218',\n",
       "  'https://www.kurly.com/shop/goods/goods_view.php?goodsno=4217',\n",
       "  'https://www.kurly.com/shop/goods/goods_view.php?goodsno=4216',\n",
       "  'https://www.kurly.com/shop/goods/goods_view.php?goodsno=4215',\n",
       "  'https://www.kurly.com/shop/goods/goods_view.php?goodsno=4214',\n",
       "  'https://www.kurly.com/shop/goods/goods_view.php?goodsno=3364',\n",
       "  'https://www.kurly.com/shop/goods/goods_view.php?goodsno=3341',\n",
       "  'https://www.kurly.com/shop/goods/goods_view.php?goodsno=1224'],\n",
       " ['https://www.kurly.com/shop/goods/goods_view.php?goodsno=56440',\n",
       "  'https://www.kurly.com/shop/goods/goods_view.php?goodsno=55672',\n",
       "  'https://www.kurly.com/shop/goods/goods_view.php?goodsno=55821',\n",
       "  'https://www.kurly.com/shop/goods/goods_view.php?goodsno=55820',\n",
       "  'https://www.kurly.com/shop/goods/goods_view.php?goodsno=55819',\n",
       "  'https://www.kurly.com/shop/goods/goods_view.php?goodsno=55459',\n",
       "  'https://www.kurly.com/shop/goods/goods_view.php?goodsno=55460',\n",
       "  'https://www.kurly.com/shop/goods/goods_view.php?goodsno=55298',\n",
       "  'https://www.kurly.com/shop/goods/goods_view.php?goodsno=55297',\n",
       "  'https://www.kurly.com/shop/goods/goods_view.php?goodsno=54879',\n",
       "  'https://www.kurly.com/shop/goods/goods_view.php?goodsno=54502',\n",
       "  'https://www.kurly.com/shop/goods/goods_view.php?goodsno=54889',\n",
       "  'https://www.kurly.com/shop/goods/goods_view.php?goodsno=54552',\n",
       "  'https://www.kurly.com/shop/goods/goods_view.php?goodsno=54551',\n",
       "  'https://www.kurly.com/shop/goods/goods_view.php?goodsno=54550',\n",
       "  'https://www.kurly.com/shop/goods/goods_view.php?goodsno=55515',\n",
       "  'https://www.kurly.com/shop/goods/goods_view.php?goodsno=54881',\n",
       "  'https://www.kurly.com/shop/goods/goods_view.php?goodsno=54578',\n",
       "  'https://www.kurly.com/shop/goods/goods_view.php?goodsno=54577',\n",
       "  'https://www.kurly.com/shop/goods/goods_view.php?goodsno=55218',\n",
       "  'https://www.kurly.com/shop/goods/goods_view.php?goodsno=53632',\n",
       "  'https://www.kurly.com/shop/goods/goods_view.php?goodsno=53472',\n",
       "  'https://www.kurly.com/shop/goods/goods_view.php?goodsno=54277',\n",
       "  'https://www.kurly.com/shop/goods/goods_view.php?goodsno=54278',\n",
       "  'https://www.kurly.com/shop/goods/goods_view.php?goodsno=54276',\n",
       "  'https://www.kurly.com/shop/goods/goods_view.php?goodsno=54275',\n",
       "  'https://www.kurly.com/shop/goods/goods_view.php?goodsno=53080',\n",
       "  'https://www.kurly.com/shop/goods/goods_view.php?goodsno=53079',\n",
       "  'https://www.kurly.com/shop/goods/goods_view.php?goodsno=53078',\n",
       "  'https://www.kurly.com/shop/goods/goods_view.php?goodsno=53077',\n",
       "  'https://www.kurly.com/shop/goods/goods_view.php?goodsno=53076',\n",
       "  'https://www.kurly.com/shop/goods/goods_view.php?goodsno=51981',\n",
       "  'https://www.kurly.com/shop/goods/goods_view.php?goodsno=52662',\n",
       "  'https://www.kurly.com/shop/goods/goods_view.php?goodsno=52656',\n",
       "  'https://www.kurly.com/shop/goods/goods_view.php?goodsno=52660',\n",
       "  'https://www.kurly.com/shop/goods/goods_view.php?goodsno=52659',\n",
       "  'https://www.kurly.com/shop/goods/goods_view.php?goodsno=52657',\n",
       "  'https://www.kurly.com/shop/goods/goods_view.php?goodsno=52658',\n",
       "  'https://www.kurly.com/shop/goods/goods_view.php?goodsno=52607',\n",
       "  'https://www.kurly.com/shop/goods/goods_view.php?goodsno=52608',\n",
       "  'https://www.kurly.com/shop/goods/goods_view.php?goodsno=52534',\n",
       "  'https://www.kurly.com/shop/goods/goods_view.php?goodsno=52533',\n",
       "  'https://www.kurly.com/shop/goods/goods_view.php?goodsno=52532',\n",
       "  'https://www.kurly.com/shop/goods/goods_view.php?goodsno=52237',\n",
       "  'https://www.kurly.com/shop/goods/goods_view.php?goodsno=51782',\n",
       "  'https://www.kurly.com/shop/goods/goods_view.php?goodsno=50081',\n",
       "  'https://www.kurly.com/shop/goods/goods_view.php?goodsno=51264',\n",
       "  'https://www.kurly.com/shop/goods/goods_view.php?goodsno=51261',\n",
       "  'https://www.kurly.com/shop/goods/goods_view.php?goodsno=51258',\n",
       "  'https://www.kurly.com/shop/goods/goods_view.php?goodsno=51255',\n",
       "  'https://www.kurly.com/shop/goods/goods_view.php?goodsno=50523',\n",
       "  'https://www.kurly.com/shop/goods/goods_view.php?goodsno=50264',\n",
       "  'https://www.kurly.com/shop/goods/goods_view.php?goodsno=50263',\n",
       "  'https://www.kurly.com/shop/goods/goods_view.php?goodsno=50261',\n",
       "  'https://www.kurly.com/shop/goods/goods_view.php?goodsno=50061',\n",
       "  'https://www.kurly.com/shop/goods/goods_view.php?goodsno=50060',\n",
       "  'https://www.kurly.com/shop/goods/goods_view.php?goodsno=44225',\n",
       "  'https://www.kurly.com/shop/goods/goods_view.php?goodsno=49402',\n",
       "  'https://www.kurly.com/shop/goods/goods_view.php?goodsno=49403',\n",
       "  'https://www.kurly.com/shop/goods/goods_view.php?goodsno=50078',\n",
       "  'https://www.kurly.com/shop/goods/goods_view.php?goodsno=49966',\n",
       "  'https://www.kurly.com/shop/goods/goods_view.php?goodsno=49965',\n",
       "  'https://www.kurly.com/shop/goods/goods_view.php?goodsno=49964',\n",
       "  'https://www.kurly.com/shop/goods/goods_view.php?goodsno=49963',\n",
       "  'https://www.kurly.com/shop/goods/goods_view.php?goodsno=49962',\n",
       "  'https://www.kurly.com/shop/goods/goods_view.php?goodsno=49209',\n",
       "  'https://www.kurly.com/shop/goods/goods_view.php?goodsno=49208',\n",
       "  'https://www.kurly.com/shop/goods/goods_view.php?goodsno=49467',\n",
       "  'https://www.kurly.com/shop/goods/goods_view.php?goodsno=49466',\n",
       "  'https://www.kurly.com/shop/goods/goods_view.php?goodsno=49465',\n",
       "  'https://www.kurly.com/shop/goods/goods_view.php?goodsno=49463',\n",
       "  'https://www.kurly.com/shop/goods/goods_view.php?goodsno=49461',\n",
       "  'https://www.kurly.com/shop/goods/goods_view.php?goodsno=49191',\n",
       "  'https://www.kurly.com/shop/goods/goods_view.php?goodsno=48516',\n",
       "  'https://www.kurly.com/shop/goods/goods_view.php?goodsno=48515',\n",
       "  'https://www.kurly.com/shop/goods/goods_view.php?goodsno=48618',\n",
       "  'https://www.kurly.com/shop/goods/goods_view.php?goodsno=43938',\n",
       "  'https://www.kurly.com/shop/goods/goods_view.php?goodsno=43934',\n",
       "  'https://www.kurly.com/shop/goods/goods_view.php?goodsno=44506',\n",
       "  'https://www.kurly.com/shop/goods/goods_view.php?goodsno=47920',\n",
       "  'https://www.kurly.com/shop/goods/goods_view.php?goodsno=45197',\n",
       "  'https://www.kurly.com/shop/goods/goods_view.php?goodsno=45196',\n",
       "  'https://www.kurly.com/shop/goods/goods_view.php?goodsno=45715',\n",
       "  'https://www.kurly.com/shop/goods/goods_view.php?goodsno=45717',\n",
       "  'https://www.kurly.com/shop/goods/goods_view.php?goodsno=45961',\n",
       "  'https://www.kurly.com/shop/goods/goods_view.php?goodsno=45959',\n",
       "  'https://www.kurly.com/shop/goods/goods_view.php?goodsno=44678',\n",
       "  'https://www.kurly.com/shop/goods/goods_view.php?goodsno=44155',\n",
       "  'https://www.kurly.com/shop/goods/goods_view.php?goodsno=44519',\n",
       "  'https://www.kurly.com/shop/goods/goods_view.php?goodsno=44157',\n",
       "  'https://www.kurly.com/shop/goods/goods_view.php?goodsno=42359',\n",
       "  'https://www.kurly.com/shop/goods/goods_view.php?goodsno=42274',\n",
       "  'https://www.kurly.com/shop/goods/goods_view.php?goodsno=42275',\n",
       "  'https://www.kurly.com/shop/goods/goods_view.php?goodsno=42277',\n",
       "  'https://www.kurly.com/shop/goods/goods_view.php?goodsno=42385',\n",
       "  'https://www.kurly.com/shop/goods/goods_view.php?goodsno=42386',\n",
       "  'https://www.kurly.com/shop/goods/goods_view.php?goodsno=42276',\n",
       "  'https://www.kurly.com/shop/goods/goods_view.php?goodsno=41693',\n",
       "  'https://www.kurly.com/shop/goods/goods_view.php?goodsno=41694'],\n",
       " ['https://www.kurly.com/shop/goods/goods_view.php?goodsno=51308',\n",
       "  'https://www.kurly.com/shop/goods/goods_view.php?goodsno=51307',\n",
       "  'https://www.kurly.com/shop/goods/goods_view.php?goodsno=51306',\n",
       "  'https://www.kurly.com/shop/goods/goods_view.php?goodsno=47720',\n",
       "  'https://www.kurly.com/shop/goods/goods_view.php?goodsno=43800',\n",
       "  'https://www.kurly.com/shop/goods/goods_view.php?goodsno=43799',\n",
       "  'https://www.kurly.com/shop/goods/goods_view.php?goodsno=43796',\n",
       "  'https://www.kurly.com/shop/goods/goods_view.php?goodsno=41741',\n",
       "  'https://www.kurly.com/shop/goods/goods_view.php?goodsno=41740',\n",
       "  'https://www.kurly.com/shop/goods/goods_view.php?goodsno=36445',\n",
       "  'https://www.kurly.com/shop/goods/goods_view.php?goodsno=35943',\n",
       "  'https://www.kurly.com/shop/goods/goods_view.php?goodsno=35942',\n",
       "  'https://www.kurly.com/shop/goods/goods_view.php?goodsno=31195',\n",
       "  'https://www.kurly.com/shop/goods/goods_view.php?goodsno=31194',\n",
       "  'https://www.kurly.com/shop/goods/goods_view.php?goodsno=31193',\n",
       "  'https://www.kurly.com/shop/goods/goods_view.php?goodsno=26205',\n",
       "  'https://www.kurly.com/shop/goods/goods_view.php?goodsno=6152',\n",
       "  'https://www.kurly.com/shop/goods/goods_view.php?goodsno=38342',\n",
       "  'https://www.kurly.com/shop/goods/goods_view.php?goodsno=7317',\n",
       "  'https://www.kurly.com/shop/goods/goods_view.php?goodsno=6970',\n",
       "  'https://www.kurly.com/shop/goods/goods_view.php?goodsno=6436',\n",
       "  'https://www.kurly.com/shop/goods/goods_view.php?goodsno=6150']]"
      ]
     },
     "execution_count": 25,
     "metadata": {},
     "output_type": "execute_result"
    }
   ],
   "source": [
    "goods_no_detail_list"
   ]
  },
  {
   "cell_type": "markdown",
   "metadata": {},
   "source": [
    "# 상품 디테일 페이지"
   ]
  },
  {
   "cell_type": "code",
   "execution_count": 665,
   "metadata": {},
   "outputs": [],
   "source": [
    "# test code\n",
    "# driver.get('https://www.kurly.com/shop/goods/goods_view.php?&goodsno=51509')\n",
    "driver.get('https://www.kurly.com/shop/goods/goods_view.php?goodsno=34461')"
   ]
  },
  {
   "cell_type": "code",
   "execution_count": 666,
   "metadata": {},
   "outputs": [
    {
     "name": "stdout",
     "output_type": "stream",
     "text": [
      "goods_image https://img-cf.kurly.com/shop/data/goods/155123328443y0.jpg\n"
     ]
    }
   ],
   "source": [
    "goods_image = driver.find_element_by_xpath(\n",
    "    '/html/body/div/div[2]/div[2]/div/div[2]/div[2]/div/div[1]').get_attribute('style')\n",
    "goods_image = goods_image.split('\"')\n",
    "print('goods_image', goods_image[1])"
   ]
  },
  {
   "cell_type": "code",
   "execution_count": 667,
   "metadata": {},
   "outputs": [
    {
     "name": "stdout",
     "output_type": "stream",
     "text": [
      "goods_title 유기농 다진 애호박 60g (냉동)\n"
     ]
    }
   ],
   "source": [
    "goods_title = driver.find_element_by_xpath(\n",
    "    '/html/body/div/div[2]/div[2]/div/div[2]/div[2]/div/p[1]/strong').get_attribute('innerText')\n",
    "print('goods_title', goods_title)"
   ]
  },
  {
   "cell_type": "code",
   "execution_count": 668,
   "metadata": {},
   "outputs": [
    {
     "name": "stdout",
     "output_type": "stream",
     "text": [
      "short_desc 부드럽고 달큰하게 즐기는 영양\n"
     ]
    }
   ],
   "source": [
    "short_desc = driver.find_element_by_xpath(\n",
    "    '/html/body/div/div[2]/div[2]/div/div[2]/div[2]/div/p[1]/span[2]').get_attribute('innerText')\n",
    "print('short_desc', short_desc)"
   ]
  },
  {
   "cell_type": "code",
   "execution_count": 669,
   "metadata": {},
   "outputs": [
    {
     "name": "stdout",
     "output_type": "stream",
     "text": [
      "price result 4300\n"
     ]
    }
   ],
   "source": [
    "try:\n",
    "    # 미 할인 상품\n",
    "    goods_price = driver.find_element_by_xpath(\n",
    "        '/html/body/div/div[2]/div[2]/div/div[2]/div[2]/div/p[2]/span[1]/span/span').get_attribute(\n",
    "        'innerText')\n",
    "except NoSuchElementException:\n",
    "    # 할인 상품\n",
    "    goods_price = driver.find_element_by_xpath(\n",
    "        '/html/body/div/div[2]/div[2]/div/div[2]/div[2]/div/p[3]/span[1]/span[1]/span[1]').get_attribute(\n",
    "        'innerText')\n",
    "\n",
    "price = re.findall('\\d+', goods_price)\n",
    "result = ''\n",
    "for value in price:\n",
    "    result += value\n",
    "print('price result', result)"
   ]
  },
  {
   "cell_type": "code",
   "execution_count": 670,
   "metadata": {},
   "outputs": [
    {
     "name": "stdout",
     "output_type": "stream",
     "text": [
      "goods_each 1개\n"
     ]
    }
   ],
   "source": [
    "goods_each_innerText = driver.find_element_by_xpath(\n",
    "    '/html/body/div/div[2]/div[2]/div/div[2]/div[2]/div/div[2]/dl[1]/dt').get_attribute('innerText')\n",
    "if '판매단위' in goods_each_innerText:\n",
    "    goods_each = driver.find_element_by_xpath(\n",
    "        '/html/body/div/div[2]/div[2]/div/div[2]/div[2]/div/div[2]/dl[1]/dd').get_attribute('innerText')\n",
    "    print('goods_each', goods_each)\n",
    "elif '배송구분' in goods_each_innerText:\n",
    "    transfer = driver.find_element_by_xpath(\n",
    "        '/html/body/div/div[2]/div[2]/div/div[2]/div[2]/div/div[2]/dl[1]/dd').get_attribute('innerText')\n",
    "    print('transfer', transfer)"
   ]
  },
  {
   "cell_type": "code",
   "execution_count": 671,
   "metadata": {},
   "outputs": [
    {
     "name": "stdout",
     "output_type": "stream",
     "text": [
      "goods_each_weight 60g\n"
     ]
    }
   ],
   "source": [
    "goods_each_weight = driver.find_element_by_xpath(\n",
    "    '/html/body/div/div[2]/div[2]/div/div[2]/div[2]/div/div[2]/dl[2]/dd').get_attribute('innerText')\n",
    "print('goods_each_weight', goods_each_weight)"
   ]
  },
  {
   "cell_type": "code",
   "execution_count": 672,
   "metadata": {},
   "outputs": [
    {
     "name": "stdout",
     "output_type": "stream",
     "text": [
      "transfer 샛별배송/택배배송\n"
     ]
    }
   ],
   "source": [
    "# 배송 구분 또는 포장 타입\n",
    "transfer_innerText = driver.find_element_by_xpath(\n",
    "    '/html/body/div/div[2]/div[2]/div/div[2]/div[2]/div/div[2]/dl[3]/dt').get_attribute('innerText')\n",
    "if '배송구분' in transfer_innerText:\n",
    "    transfer = driver.find_element_by_xpath(\n",
    "        '/html/body/div/div[2]/div[2]/div/div[2]/div[2]/div/div[2]/dl[3]/dd').get_attribute('innerText')\n",
    "    print('transfer', transfer)\n",
    "elif '포장타입' in transfer_innerText:\n",
    "    packing = driver.find_element_by_xpath(\n",
    "        '/html/body/div/div[2]/div[2]/div/div[2]/div[2]/div/div[2]/dl[3]').get_attribute('innerText')\n",
    "    print('packing', packing)"
   ]
  },
  {
   "cell_type": "code",
   "execution_count": 673,
   "metadata": {},
   "outputs": [
    {
     "name": "stdout",
     "output_type": "stream",
     "text": [
      "transfer 냉동/종이포장\n",
      "택배배송은 에코포장이 스티로폼으로 대체됩니다.\n"
     ]
    }
   ],
   "source": [
    "goods_origin_innerText = driver.find_element_by_xpath(\n",
    "    '/html/body/div/div[2]/div[2]/div/div[2]/div[2]/div/div[2]/dl[4]/dt').get_attribute('innerText')\n",
    "# print(goods_origin_innerText)\n",
    "if '원산지' in goods_origin_innerText:\n",
    "    goods_origin = driver.find_element_by_xpath(\n",
    "        '/html/body/div/div[2]/div[2]/div/div[2]/div[2]/div/div[2]/dl[4]/dd').get_attribute('innerText')\n",
    "    print('goods_origin', goods_origin)\n",
    "elif '포장타입' in goods_origin_innerText:\n",
    "    packing = driver.find_element_by_xpath(\n",
    "        '/html/body/div/div[2]/div[2]/div/div[2]/div[2]/div/div[2]/dl[4]/dd').get_attribute('innerText')\n",
    "    print('transfer', packing)"
   ]
  },
  {
   "cell_type": "code",
   "execution_count": 674,
   "metadata": {},
   "outputs": [
    {
     "name": "stdout",
     "output_type": "stream",
     "text": [
      "allergy - 호두, 땅콩, 대두, 버터(우유), 밀과 같은 시설에서 제조\n"
     ]
    }
   ],
   "source": [
    "# 포장 정보 또는 알레르기\n",
    "try:\n",
    "    goods_packing_innerText = driver.find_element_by_xpath(\n",
    "        '/html/body/div/div[2]/div[2]/div/div[2]/div[2]/div/div[2]/dl[5]/dt').get_attribute('innerText')\n",
    "    if '포장' in goods_packing_innerText:\n",
    "        packing = driver.find_element_by_xpath(\n",
    "            '/html/body/div/div[2]/div[2]/div/div[2]/div[2]/div/div[2]/dl[5]/dd').get_attribute('innerText')\n",
    "        print('packing', packing)\n",
    "    elif '알레르기' in goods_packing_innerText:\n",
    "        allergy = driver.find_element_by_xpath(\n",
    "            '/html/body/div/div[2]/div[2]/div/div[2]/div[2]/div/div[2]/dl[5]/dd').get_attribute('innerText')\n",
    "        print('allergy', allergy)\n",
    "except NoSuchElementException:\n",
    "    packing = None\n",
    "    allergy = None"
   ]
  },
  {
   "cell_type": "code",
   "execution_count": 675,
   "metadata": {},
   "outputs": [],
   "source": [
    "# 안내사항, 유통기한, 안내사항\n",
    "try:\n",
    "\n",
    "    goods_info_innerText = driver.find_element_by_xpath(\n",
    "        '/html/body/div/div[2]/div[2]/div/div[2]/div[2]/div/div[2]/dl[6]/dt').get_attribute('innerText')\n",
    "    if '안내' in goods_info_innerText:\n",
    "        info = driver.find_element_by_xpath(\n",
    "            '/html/body/div/div[2]/div[2]/div/div[2]/div[2]/div/div[2]/dl[6]/dd').get_attribute('innerText')\n",
    "        print('info', info)\n",
    "    elif '유통기한' in goods_info_innerText:\n",
    "        expiration = driver.find_element_by_xpath(\n",
    "            '/html/body/div/div[2]/div[2]/div/div[2]/div[2]/div/div[2]/dl[6]/dd').get_attribute('innerText')\n",
    "        print('expiration', expiration)\n",
    "    elif '알레르기정보' in goods_info_innerText:\n",
    "        allergy = driver.find_element_by_xpath(\n",
    "            '/html/body/div/div[2]/div[2]/div/div[2]/div[2]/div/div[2]/dl[6]/dd').get_attribute('innerText')\n",
    "        print('allergy', allergy)\n",
    "except NoSuchElementException:\n",
    "    info = None\n",
    "    expiration = None\n",
    "    allergy = None"
   ]
  },
  {
   "cell_type": "code",
   "execution_count": 676,
   "metadata": {},
   "outputs": [
    {
     "name": "stdout",
     "output_type": "stream",
     "text": [
      "image_one https://img-cf.kurly.com/shop/data/goodsview/20190227/gv40000043876_1.jpg\n"
     ]
    }
   ],
   "source": [
    "image_one = driver.find_element_by_xpath(\n",
    "    '/html/body/div/div[2]/div[2]/div/div[3]/div/div[1]/div/div/div[1]/img').get_attribute('src')\n",
    "print('image_one', image_one)"
   ]
  },
  {
   "cell_type": "code",
   "execution_count": 677,
   "metadata": {},
   "outputs": [
    {
     "name": "stdout",
     "output_type": "stream",
     "text": [
      "text_one_title 부드럽고 달큰하게 즐기는 영양\n"
     ]
    }
   ],
   "source": [
    "text_one_title = driver.find_element_by_xpath(\n",
    "    '//*[@id=\"goods-description\"]/div/div[1]/div[2]/h3/small').get_attribute('innerText')\n",
    "print('text_one_title', text_one_title)"
   ]
  },
  {
   "cell_type": "code",
   "execution_count": 678,
   "metadata": {},
   "outputs": [
    {
     "name": "stdout",
     "output_type": "stream",
     "text": [
      "text_one_context 유기농 다진 애호박 \n"
     ]
    }
   ],
   "source": [
    "text_one_context_dummy = driver.find_element_by_xpath(\n",
    "    '//*[@id=\"goods-description\"]/div/div[1]/div[2]/h3').get_attribute('innerText')\n",
    "\n",
    "text_one_context_dummy = text_one_context_dummy.split('\\n')\n",
    "text_one_context = ''\n",
    "for i in text_one_context_dummy[1:]:\n",
    "    text_one_context += i + ' '\n",
    "print('text_one_context', text_one_context)"
   ]
  },
  {
   "cell_type": "code",
   "execution_count": 679,
   "metadata": {},
   "outputs": [
    {
     "name": "stdout",
     "output_type": "stream",
     "text": [
      "text_one_description 우리 아이가 먹는 음식인 만큼 꼼꼼히 좋은 재료를 골라 정성들여 요리하고 싶은 것이 엄마 아빠의 마음이죠. 하지만 재료를 하나하나 엄선해 손질하고 요리하기란 쉽지 않아요. 어떤 재료를 선택하느냐에 따라 손질에만 꼬박 하루가 걸리기도 하니깐요. 일과 육아를 병행해야 하는 분들이라면 더욱 고민이 될 텐데요. 컬리는 이런 걱정을 덜어줄 다진 애호박을 준비했어요.\n",
      "\n",
      "애호박은 각종 비타민과 영양소가 풍부한 채소예요. 소화흡수가 잘되기 때문에 아이들 음식에 사용하기 좋고요. 다양한 요리에 활용할 수 있어요. 신선한 유기농 애호박을 깨끗하게 세척한 후, 잘게 다져 한 번에 쓰기 좋게 15g씩 4개의 블록으로 나누어 담았어요. 사용하실 때 포크로 눌러주면 블록을 손쉽게 분리해 사용할 수 있습니다. 남은 애호박은 냉동실에 다시 보관하셨다가 필요할 때마다 꺼내어 사용하시면 돼요.\n"
     ]
    }
   ],
   "source": [
    "text_one_description = driver.find_element_by_xpath(\n",
    "    '//*[@id=\"goods-description\"]/div/div[1]/div[2]/p').get_attribute('innerText')\n",
    "print('text_one_description', text_one_description)"
   ]
  },
  {
   "cell_type": "code",
   "execution_count": 680,
   "metadata": {},
   "outputs": [
    {
     "name": "stdout",
     "output_type": "stream",
     "text": [
      "check_point_image https://img-cf.kurly.com/shop/data/goodsview/20190227/gv10000043877_1.jpg\n"
     ]
    }
   ],
   "source": [
    "try:\n",
    "    check_point_image = driver.find_element_by_xpath(\n",
    "        '//*[@id=\"goods-description\"]/div/div/div/div/img').get_attribute('src')\n",
    "    print('check_point_image', check_point_image)\n",
    "except NoSuchElementException:\n",
    "    check_point_image = None"
   ]
  },
  {
   "cell_type": "code",
   "execution_count": 681,
   "metadata": {},
   "outputs": [
    {
     "name": "stdout",
     "output_type": "stream",
     "text": [
      "info_image https://img-cf.kurly.com/shop/data/goodsview/20190619/gv10000053520_1.jpg\n"
     ]
    }
   ],
   "source": [
    "info_image = driver.find_element_by_xpath(\n",
    "    '/html/body/div/div[2]/div[2]/div/div[3]/div/div[2]/div/p/img').get_attribute('src')\n",
    "print('info_image', info_image)"
   ]
  },
  {
   "cell_type": "markdown",
   "metadata": {},
   "source": [
    "# 상세 정보"
   ]
  },
  {
   "cell_type": "code",
   "execution_count": 737,
   "metadata": {},
   "outputs": [],
   "source": [
    "var_titles = driver.find_elements_by_xpath('//*[@id=\"goods-infomation\"]/table/tbody/tr/th')\n",
    "var_descs = driver.find_elements_by_xpath('//*[@id=\"goods-infomation\"]/table/tbody/tr/td')\n"
   ]
  },
  {
   "cell_type": "code",
   "execution_count": 738,
   "metadata": {},
   "outputs": [
    {
     "name": "stdout",
     "output_type": "stream",
     "text": [
      "식품의유형\n",
      "상품설명 및 상품이미지 참조 \n",
      "\n",
      "생산자및소재지(수입품의경우생산자,수입자및제조국)\n",
      "상품설명 및 상품이미지 참조 \n",
      "\n",
      "제조연월일,유통기한또는품질유지기한\n",
      "제품 별도 라벨 표기 참조 \n",
      "\n",
      "포장단위별용량(중량),수량\n",
      "상품설명 및 상품이미지 참조 \n",
      "\n",
      "원재료명및함량(농수산물의원산지표시에관한법률에따른원산지표시포함)\n",
      "상품설명 및 상품이미지 참조 \n",
      "\n",
      "영양성분(식품위생법에따른영양성분표시대상식품에한함)\n",
      "상품설명 및 상품이미지 참조 \n",
      "\n",
      "유전자변형식품에해당하는경우의표시\n",
      "해당사항 없음 \n",
      "\n",
      "영유아식또는체중조절식품등에해당하는경우표시광고사전심의필유무및부작용발생가능성\n",
      "해당사항 없음 \n",
      "\n",
      "수입식품에해당하는경우“식품위생법에따른수입신고를필함＂의문구\n",
      "식품위생법에 따른 수입신고를 필함 \n",
      "\n",
      "소비자상담관련전화번호\n",
      "마켓컬리 고객행복센터 (1644-1107) \n",
      "\n"
     ]
    },
    {
     "name": "stderr",
     "output_type": "stream",
     "text": [
      "<>:5: SyntaxWarning: \"is\" with a literal. Did you mean \"==\"?\n",
      "<>:5: SyntaxWarning: \"is\" with a literal. Did you mean \"==\"?\n",
      "<ipython-input-738-86e7cfb26024>:5: SyntaxWarning: \"is\" with a literal. Did you mean \"==\"?\n",
      "  if len(var_titles) is 0:\n"
     ]
    }
   ],
   "source": [
    "for index, desc in enumerate(var_descs):\n",
    "    title = var_titles[index].get_attribute('innerText')\n",
    "    print(title)\n",
    "    print(desc.get_attribute('innerText'), '\\n')\n",
    "if len(var_titles) is 0:\n",
    "    pass"
   ]
  },
  {
   "cell_type": "code",
   "execution_count": 721,
   "metadata": {},
   "outputs": [
    {
     "data": {
      "text/plain": [
       "'유통기한'"
      ]
     },
     "execution_count": 721,
     "metadata": {},
     "output_type": "execute_result"
    }
   ],
   "source": [
    "var_titles[1].get_attribute('innerText')"
   ]
  },
  {
   "cell_type": "code",
   "execution_count": null,
   "metadata": {},
   "outputs": [],
   "source": []
  }
 ],
 "metadata": {
  "kernelspec": {
   "display_name": "Python 3",
   "language": "python",
   "name": "python3"
  },
  "language_info": {
   "codemirror_mode": {
    "name": "ipython",
    "version": 3
   },
   "file_extension": ".py",
   "mimetype": "text/x-python",
   "name": "python",
   "nbconvert_exporter": "python",
   "pygments_lexer": "ipython3",
   "version": "3.8.2"
  }
 },
 "nbformat": 4,
 "nbformat_minor": 4
}
