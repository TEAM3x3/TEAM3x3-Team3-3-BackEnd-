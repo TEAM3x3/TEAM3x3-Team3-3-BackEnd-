{
 "cells": [
  {
   "cell_type": "markdown",
   "metadata": {},
   "source": [
    "# 카테고리 리스트"
   ]
  },
  {
   "cell_type": "code",
   "execution_count": 660,
   "metadata": {},
   "outputs": [],
   "source": [
    "import requests\n",
    "from django.core.files import File\n",
    "from selenium import webdriver\n",
    "import time\n",
    "import datetime\n",
    "import re\n",
    "from selenium.common.exceptions import NoSuchElementException\n",
    "from bs4 import BeautifulSoup\n",
    "\n"
   ]
  },
  {
   "cell_type": "code",
   "execution_count": 664,
   "metadata": {},
   "outputs": [],
   "source": [
    "driver = webdriver.Chrome('/Users/mac/projects/ChromeWebDriver/chromedriver')"
   ]
  },
  {
   "cell_type": "code",
   "execution_count": 119,
   "metadata": {},
   "outputs": [],
   "source": [
    "category_list = [\n",
    "    'https://www.kurly.com/shop/goods/goods_list.php?category=907',\n",
    "    'https://www.kurly.com/shop/goods/goods_list.php?category=908',\n",
    "    'https://www.kurly.com/shop/goods/goods_list.php?category=909',\n",
    "    'https://www.kurly.com/shop/goods/goods_list.php?category=910',\n",
    "    'https://www.kurly.com/shop/goods/goods_list.php?category=911',\n",
    "    'https://www.kurly.com/shop/goods/goods_list.php?category=912',\n",
    "    'https://www.kurly.com/shop/goods/goods_list.php?category=913',\n",
    "    'https://www.kurly.com/shop/goods/goods_list.php?category=914',\n",
    "    'https://www.kurly.com/shop/goods/goods_list.php?category=915',\n",
    "    'https://www.kurly.com/shop/goods/goods_list.php?category=032',\n",
    "    'https://www.kurly.com/shop/goods/goods_list.php?category=918',\n",
    "    'https://www.kurly.com/shop/goods/goods_list.php?category=012',\n",
    "    'https://www.kurly.com/shop/goods/goods_list.php?category=916',\n",
    "    'https://www.kurly.com/shop/goods/goods_list.php?category=085',\n",
    "    'https://www.kurly.com/shop/goods/goods_list.php?category=919',\n",
    "    'https://www.kurly.com/shop/goods/goods_list.php?category=991',\n",
    "]"
   ]
  },
  {
   "cell_type": "code",
   "execution_count": 461,
   "metadata": {},
   "outputs": [],
   "source": [
    "# test code\n",
    "driver.get('https://www.kurly.com/shop/goods/goods_list.php?category=907')"
   ]
  },
  {
   "cell_type": "code",
   "execution_count": 223,
   "metadata": {},
   "outputs": [
    {
     "data": {
      "text/plain": [
       "'채소'"
      ]
     },
     "execution_count": 223,
     "metadata": {},
     "output_type": "execute_result"
    }
   ],
   "source": [
    "# 카테고리 이름\n",
    "category_name = driver.find_element_by_xpath('/html/body/div[1]/div[2]/div[2]/div/div[2]/div[1]/div[2]/div/span[2]').get_attribute('innerText')\n",
    "category_name"
   ]
  },
  {
   "cell_type": "code",
   "execution_count": 224,
   "metadata": {},
   "outputs": [
    {
     "name": "stdout",
     "output_type": "stream",
     "text": [
      "2\n",
      "기본채소\n",
      "3\n",
      "쌈·샐러드·간편채소\n",
      "4\n",
      "브로콜리·특수채소\n",
      "5\n",
      "콩나물·버섯류\n",
      "6\n",
      "시금치·부추·나물\n",
      "7\n",
      "양파·마늘·생강·파\n",
      "8\n",
      "파프리카·피망·고추\n"
     ]
    }
   ],
   "source": [
    "types = driver.find_elements_by_xpath('/html/body/div[1]/div[2]/div[2]/div/div[2]/div[1]/div[2]/ul/li')\n",
    "type_name_list = []\n",
    "goods_no_detail_list = []\n",
    "for index in range(1, len(types)):\n",
    "    current_time = datetime.datetime.now()\n",
    "    if index == 1:\n",
    "        continue\n",
    "    \n",
    "    print(index)\n",
    "    # category_types_list\n",
    "    button = driver.find_element_by_xpath(f'/html/body/div[1]/div[2]/div[2]/div/div[2]/div[1]/div[2]/ul/li[{index}]/a')\n",
    "    driver.execute_script(\"arguments[0].click();\", button)\n",
    "\n",
    "    time.sleep(4)\n",
    "    type_name = driver.find_element_by_xpath(f'/html/body/div[1]/div[2]/div[2]/div/div[2]/div[1]/div[2]/ul/li[{index}]/a').get_attribute('innerText')\n",
    "    print(type_name)\n",
    "    type_name_list.append(type_name)\n",
    "    \n",
    "    # 각 타입 별 디테일 페이지 url\n",
    "    goods_detail_urls = driver.find_elements_by_xpath('/html/body/div[1]/div[2]/div[2]/div/div[2]/div[2]/div[2]/div/ul/li/div/div/div/button/span')\n",
    "    goodsNoList = []\n",
    "    for index in goods_detail_urls:\n",
    "        no = index.get_attribute('innerText')\n",
    "        if '재고' in no:\n",
    "            continue\n",
    "        goodsNoList.append(f'https://www.kurly.com/shop/goods/goods_view.php?goodsno={no}')\n",
    "    goods_no_detail_list.append(goodsNoList)\n",
    "        "
   ]
  },
  {
   "cell_type": "code",
   "execution_count": 225,
   "metadata": {},
   "outputs": [
    {
     "data": {
      "text/plain": [
       "['기본채소',\n",
       " '쌈·샐러드·간편채소',\n",
       " '브로콜리·특수채소',\n",
       " '콩나물·버섯류',\n",
       " '시금치·부추·나물',\n",
       " '양파·마늘·생강·파',\n",
       " '파프리카·피망·고추']"
      ]
     },
     "execution_count": 225,
     "metadata": {},
     "output_type": "execute_result"
    }
   ],
   "source": [
    "type_name_list"
   ]
  },
  {
   "cell_type": "code",
   "execution_count": 220,
   "metadata": {},
   "outputs": [
    {
     "data": {
      "text/plain": [
       "6"
      ]
     },
     "execution_count": 220,
     "metadata": {},
     "output_type": "execute_result"
    }
   ],
   "source": [
    "len(goods_no_detail_list)"
   ]
  },
  {
   "cell_type": "code",
   "execution_count": 221,
   "metadata": {
    "scrolled": true
   },
   "outputs": [
    {
     "data": {
      "text/plain": [
       "[['https://www.kurly.com/shop/goods/goods_view.php?goodsno=52096',\n",
       "  'https://www.kurly.com/shop/goods/goods_view.php?goodsno=11021',\n",
       "  'https://www.kurly.com/shop/goods/goods_view.php?goodsno=52682',\n",
       "  'https://www.kurly.com/shop/goods/goods_view.php?goodsno=31986',\n",
       "  'https://www.kurly.com/shop/goods/goods_view.php?goodsno=37040',\n",
       "  'https://www.kurly.com/shop/goods/goods_view.php?goodsno=42152',\n",
       "  'https://www.kurly.com/shop/goods/goods_view.php?goodsno=39502',\n",
       "  'https://www.kurly.com/shop/goods/goods_view.php?goodsno=26292',\n",
       "  'https://www.kurly.com/shop/goods/goods_view.php?goodsno=42658',\n",
       "  'https://www.kurly.com/shop/goods/goods_view.php?goodsno=13580',\n",
       "  'https://www.kurly.com/shop/goods/goods_view.php?goodsno=35864',\n",
       "  'https://www.kurly.com/shop/goods/goods_view.php?goodsno=54454',\n",
       "  'https://www.kurly.com/shop/goods/goods_view.php?goodsno=54721',\n",
       "  'https://www.kurly.com/shop/goods/goods_view.php?goodsno=36208',\n",
       "  'https://www.kurly.com/shop/goods/goods_view.php?goodsno=54453',\n",
       "  'https://www.kurly.com/shop/goods/goods_view.php?goodsno=51216',\n",
       "  'https://www.kurly.com/shop/goods/goods_view.php?goodsno=31064',\n",
       "  'https://www.kurly.com/shop/goods/goods_view.php?goodsno=50960',\n",
       "  'https://www.kurly.com/shop/goods/goods_view.php?goodsno=52889',\n",
       "  'https://www.kurly.com/shop/goods/goods_view.php?goodsno=34369',\n",
       "  'https://www.kurly.com/shop/goods/goods_view.php?goodsno=43896',\n",
       "  'https://www.kurly.com/shop/goods/goods_view.php?goodsno=55439',\n",
       "  'https://www.kurly.com/shop/goods/goods_view.php?goodsno=7005',\n",
       "  'https://www.kurly.com/shop/goods/goods_view.php?goodsno=38171',\n",
       "  'https://www.kurly.com/shop/goods/goods_view.php?goodsno=36734',\n",
       "  'https://www.kurly.com/shop/goods/goods_view.php?goodsno=45390',\n",
       "  'https://www.kurly.com/shop/goods/goods_view.php?goodsno=42209',\n",
       "  'https://www.kurly.com/shop/goods/goods_view.php?goodsno=41272',\n",
       "  'https://www.kurly.com/shop/goods/goods_view.php?goodsno=34687',\n",
       "  'https://www.kurly.com/shop/goods/goods_view.php?goodsno=49379',\n",
       "  'https://www.kurly.com/shop/goods/goods_view.php?goodsno=50427',\n",
       "  'https://www.kurly.com/shop/goods/goods_view.php?goodsno=41071',\n",
       "  'https://www.kurly.com/shop/goods/goods_view.php?goodsno=44097',\n",
       "  'https://www.kurly.com/shop/goods/goods_view.php?goodsno=42931',\n",
       "  'https://www.kurly.com/shop/goods/goods_view.php?goodsno=40903',\n",
       "  'https://www.kurly.com/shop/goods/goods_view.php?goodsno=31488',\n",
       "  'https://www.kurly.com/shop/goods/goods_view.php?goodsno=48569',\n",
       "  'https://www.kurly.com/shop/goods/goods_view.php?goodsno=29494',\n",
       "  'https://www.kurly.com/shop/goods/goods_view.php?goodsno=51600',\n",
       "  'https://www.kurly.com/shop/goods/goods_view.php?goodsno=52552',\n",
       "  'https://www.kurly.com/shop/goods/goods_view.php?goodsno=37903',\n",
       "  'https://www.kurly.com/shop/goods/goods_view.php?goodsno=12654',\n",
       "  'https://www.kurly.com/shop/goods/goods_view.php?goodsno=40551',\n",
       "  'https://www.kurly.com/shop/goods/goods_view.php?goodsno=45885',\n",
       "  'https://www.kurly.com/shop/goods/goods_view.php?goodsno=41668',\n",
       "  'https://www.kurly.com/shop/goods/goods_view.php?goodsno=42825',\n",
       "  'https://www.kurly.com/shop/goods/goods_view.php?goodsno=50428',\n",
       "  'https://www.kurly.com/shop/goods/goods_view.php?goodsno=45471',\n",
       "  'https://www.kurly.com/shop/goods/goods_view.php?goodsno=8403',\n",
       "  'https://www.kurly.com/shop/goods/goods_view.php?goodsno=35945',\n",
       "  'https://www.kurly.com/shop/goods/goods_view.php?goodsno=35947',\n",
       "  'https://www.kurly.com/shop/goods/goods_view.php?goodsno=45474',\n",
       "  'https://www.kurly.com/shop/goods/goods_view.php?goodsno=36470',\n",
       "  'https://www.kurly.com/shop/goods/goods_view.php?goodsno=9769',\n",
       "  'https://www.kurly.com/shop/goods/goods_view.php?goodsno=29852',\n",
       "  'https://www.kurly.com/shop/goods/goods_view.php?goodsno=54720',\n",
       "  'https://www.kurly.com/shop/goods/goods_view.php?goodsno=50900',\n",
       "  'https://www.kurly.com/shop/goods/goods_view.php?goodsno=30282',\n",
       "  'https://www.kurly.com/shop/goods/goods_view.php?goodsno=35948',\n",
       "  'https://www.kurly.com/shop/goods/goods_view.php?goodsno=13147',\n",
       "  'https://www.kurly.com/shop/goods/goods_view.php?goodsno=26799',\n",
       "  'https://www.kurly.com/shop/goods/goods_view.php?goodsno=50899',\n",
       "  'https://www.kurly.com/shop/goods/goods_view.php?goodsno=55711',\n",
       "  'https://www.kurly.com/shop/goods/goods_view.php?goodsno=55712',\n",
       "  'https://www.kurly.com/shop/goods/goods_view.php?goodsno=55713',\n",
       "  'https://www.kurly.com/shop/goods/goods_view.php?goodsno=42928',\n",
       "  'https://www.kurly.com/shop/goods/goods_view.php?goodsno=54083',\n",
       "  'https://www.kurly.com/shop/goods/goods_view.php?goodsno=40548',\n",
       "  'https://www.kurly.com/shop/goods/goods_view.php?goodsno=35946',\n",
       "  'https://www.kurly.com/shop/goods/goods_view.php?goodsno=35865',\n",
       "  'https://www.kurly.com/shop/goods/goods_view.php?goodsno=40549',\n",
       "  'https://www.kurly.com/shop/goods/goods_view.php?goodsno=50150',\n",
       "  'https://www.kurly.com/shop/goods/goods_view.php?goodsno=55525',\n",
       "  'https://www.kurly.com/shop/goods/goods_view.php?goodsno=35860',\n",
       "  'https://www.kurly.com/shop/goods/goods_view.php?goodsno=55714',\n",
       "  'https://www.kurly.com/shop/goods/goods_view.php?goodsno=42149',\n",
       "  'https://www.kurly.com/shop/goods/goods_view.php?goodsno=29497',\n",
       "  'https://www.kurly.com/shop/goods/goods_view.php?goodsno=42208',\n",
       "  'https://www.kurly.com/shop/goods/goods_view.php?goodsno=29929',\n",
       "  'https://www.kurly.com/shop/goods/goods_view.php?goodsno=51313',\n",
       "  'https://www.kurly.com/shop/goods/goods_view.php?goodsno=7398',\n",
       "  'https://www.kurly.com/shop/goods/goods_view.php?goodsno=36467',\n",
       "  'https://www.kurly.com/shop/goods/goods_view.php?goodsno=45951',\n",
       "  'https://www.kurly.com/shop/goods/goods_view.php?goodsno=47742',\n",
       "  'https://www.kurly.com/shop/goods/goods_view.php?goodsno=8393',\n",
       "  'https://www.kurly.com/shop/goods/goods_view.php?goodsno=40547',\n",
       "  'https://www.kurly.com/shop/goods/goods_view.php?goodsno=9768',\n",
       "  'https://www.kurly.com/shop/goods/goods_view.php?goodsno=43707',\n",
       "  'https://www.kurly.com/shop/goods/goods_view.php?goodsno=34878',\n",
       "  'https://www.kurly.com/shop/goods/goods_view.php?goodsno=50534',\n",
       "  'https://www.kurly.com/shop/goods/goods_view.php?goodsno=45284',\n",
       "  'https://www.kurly.com/shop/goods/goods_view.php?goodsno=7399',\n",
       "  'https://www.kurly.com/shop/goods/goods_view.php?goodsno=27844',\n",
       "  'https://www.kurly.com/shop/goods/goods_view.php?goodsno=40550',\n",
       "  'https://www.kurly.com/shop/goods/goods_view.php?goodsno=40314',\n",
       "  'https://www.kurly.com/shop/goods/goods_view.php?goodsno=43712',\n",
       "  'https://www.kurly.com/shop/goods/goods_view.php?goodsno=7400',\n",
       "  'https://www.kurly.com/shop/goods/goods_view.php?goodsno=38210',\n",
       "  'https://www.kurly.com/shop/goods/goods_view.php?goodsno=7322'],\n",
       " ['https://www.kurly.com/shop/goods/goods_view.php?goodsno=47787',\n",
       "  'https://www.kurly.com/shop/goods/goods_view.php?goodsno=45462',\n",
       "  'https://www.kurly.com/shop/goods/goods_view.php?goodsno=52665',\n",
       "  'https://www.kurly.com/shop/goods/goods_view.php?goodsno=26039',\n",
       "  'https://www.kurly.com/shop/goods/goods_view.php?goodsno=31684',\n",
       "  'https://www.kurly.com/shop/goods/goods_view.php?goodsno=47788',\n",
       "  'https://www.kurly.com/shop/goods/goods_view.php?goodsno=42209',\n",
       "  'https://www.kurly.com/shop/goods/goods_view.php?goodsno=41272',\n",
       "  'https://www.kurly.com/shop/goods/goods_view.php?goodsno=25774',\n",
       "  'https://www.kurly.com/shop/goods/goods_view.php?goodsno=52667',\n",
       "  'https://www.kurly.com/shop/goods/goods_view.php?goodsno=31488',\n",
       "  'https://www.kurly.com/shop/goods/goods_view.php?goodsno=48569',\n",
       "  'https://www.kurly.com/shop/goods/goods_view.php?goodsno=43945',\n",
       "  'https://www.kurly.com/shop/goods/goods_view.php?goodsno=25684',\n",
       "  'https://www.kurly.com/shop/goods/goods_view.php?goodsno=26439',\n",
       "  'https://www.kurly.com/shop/goods/goods_view.php?goodsno=45658',\n",
       "  'https://www.kurly.com/shop/goods/goods_view.php?goodsno=41269',\n",
       "  'https://www.kurly.com/shop/goods/goods_view.php?goodsno=47976',\n",
       "  'https://www.kurly.com/shop/goods/goods_view.php?goodsno=45868',\n",
       "  'https://www.kurly.com/shop/goods/goods_view.php?goodsno=52666',\n",
       "  'https://www.kurly.com/shop/goods/goods_view.php?goodsno=41268',\n",
       "  'https://www.kurly.com/shop/goods/goods_view.php?goodsno=9728',\n",
       "  'https://www.kurly.com/shop/goods/goods_view.php?goodsno=41270',\n",
       "  'https://www.kurly.com/shop/goods/goods_view.php?goodsno=11717',\n",
       "  'https://www.kurly.com/shop/goods/goods_view.php?goodsno=47978',\n",
       "  'https://www.kurly.com/shop/goods/goods_view.php?goodsno=25640',\n",
       "  'https://www.kurly.com/shop/goods/goods_view.php?goodsno=26442',\n",
       "  'https://www.kurly.com/shop/goods/goods_view.php?goodsno=42208',\n",
       "  'https://www.kurly.com/shop/goods/goods_view.php?goodsno=51508',\n",
       "  'https://www.kurly.com/shop/goods/goods_view.php?goodsno=6974',\n",
       "  'https://www.kurly.com/shop/goods/goods_view.php?goodsno=7323',\n",
       "  'https://www.kurly.com/shop/goods/goods_view.php?goodsno=45635',\n",
       "  'https://www.kurly.com/shop/goods/goods_view.php?goodsno=44359',\n",
       "  'https://www.kurly.com/shop/goods/goods_view.php?goodsno=27844',\n",
       "  'https://www.kurly.com/shop/goods/goods_view.php?goodsno=40744',\n",
       "  'https://www.kurly.com/shop/goods/goods_view.php?goodsno=43712',\n",
       "  'https://www.kurly.com/shop/goods/goods_view.php?goodsno=25642',\n",
       "  'https://www.kurly.com/shop/goods/goods_view.php?goodsno=40670',\n",
       "  'https://www.kurly.com/shop/goods/goods_view.php?goodsno=47979',\n",
       "  'https://www.kurly.com/shop/goods/goods_view.php?goodsno=41267',\n",
       "  'https://www.kurly.com/shop/goods/goods_view.php?goodsno=47983',\n",
       "  'https://www.kurly.com/shop/goods/goods_view.php?goodsno=7322',\n",
       "  'https://www.kurly.com/shop/goods/goods_view.php?goodsno=43711',\n",
       "  'https://www.kurly.com/shop/goods/goods_view.php?goodsno=6972',\n",
       "  'https://www.kurly.com/shop/goods/goods_view.php?goodsno=47982',\n",
       "  'https://www.kurly.com/shop/goods/goods_view.php?goodsno=45942',\n",
       "  'https://www.kurly.com/shop/goods/goods_view.php?goodsno=47980',\n",
       "  'https://www.kurly.com/shop/goods/goods_view.php?goodsno=6973',\n",
       "  'https://www.kurly.com/shop/goods/goods_view.php?goodsno=45453',\n",
       "  'https://www.kurly.com/shop/goods/goods_view.php?goodsno=41275',\n",
       "  'https://www.kurly.com/shop/goods/goods_view.php?goodsno=43710',\n",
       "  'https://www.kurly.com/shop/goods/goods_view.php?goodsno=38333',\n",
       "  'https://www.kurly.com/shop/goods/goods_view.php?goodsno=37111',\n",
       "  'https://www.kurly.com/shop/goods/goods_view.php?goodsno=44314',\n",
       "  'https://www.kurly.com/shop/goods/goods_view.php?goodsno=44360',\n",
       "  'https://www.kurly.com/shop/goods/goods_view.php?goodsno=45865',\n",
       "  'https://www.kurly.com/shop/goods/goods_view.php?goodsno=44313',\n",
       "  'https://www.kurly.com/shop/goods/goods_view.php?goodsno=38332',\n",
       "  'https://www.kurly.com/shop/goods/goods_view.php?goodsno=45640',\n",
       "  'https://www.kurly.com/shop/goods/goods_view.php?goodsno=45465',\n",
       "  'https://www.kurly.com/shop/goods/goods_view.php?goodsno=49818',\n",
       "  'https://www.kurly.com/shop/goods/goods_view.php?goodsno=38341',\n",
       "  'https://www.kurly.com/shop/goods/goods_view.php?goodsno=45637',\n",
       "  'https://www.kurly.com/shop/goods/goods_view.php?goodsno=47981',\n",
       "  'https://www.kurly.com/shop/goods/goods_view.php?goodsno=45636'],\n",
       " ['https://www.kurly.com/shop/goods/goods_view.php?goodsno=50910',\n",
       "  'https://www.kurly.com/shop/goods/goods_view.php?goodsno=42143',\n",
       "  'https://www.kurly.com/shop/goods/goods_view.php?goodsno=51185',\n",
       "  'https://www.kurly.com/shop/goods/goods_view.php?goodsno=54082',\n",
       "  'https://www.kurly.com/shop/goods/goods_view.php?goodsno=47890',\n",
       "  'https://www.kurly.com/shop/goods/goods_view.php?goodsno=26596',\n",
       "  'https://www.kurly.com/shop/goods/goods_view.php?goodsno=51144',\n",
       "  'https://www.kurly.com/shop/goods/goods_view.php?goodsno=47889',\n",
       "  'https://www.kurly.com/shop/goods/goods_view.php?goodsno=50527',\n",
       "  'https://www.kurly.com/shop/goods/goods_view.php?goodsno=50391',\n",
       "  'https://www.kurly.com/shop/goods/goods_view.php?goodsno=51146',\n",
       "  'https://www.kurly.com/shop/goods/goods_view.php?goodsno=52246',\n",
       "  'https://www.kurly.com/shop/goods/goods_view.php?goodsno=51699',\n",
       "  'https://www.kurly.com/shop/goods/goods_view.php?goodsno=42144',\n",
       "  'https://www.kurly.com/shop/goods/goods_view.php?goodsno=35684',\n",
       "  'https://www.kurly.com/shop/goods/goods_view.php?goodsno=25432',\n",
       "  'https://www.kurly.com/shop/goods/goods_view.php?goodsno=25433',\n",
       "  'https://www.kurly.com/shop/goods/goods_view.php?goodsno=50528',\n",
       "  'https://www.kurly.com/shop/goods/goods_view.php?goodsno=52243',\n",
       "  'https://www.kurly.com/shop/goods/goods_view.php?goodsno=54295',\n",
       "  'https://www.kurly.com/shop/goods/goods_view.php?goodsno=47894',\n",
       "  'https://www.kurly.com/shop/goods/goods_view.php?goodsno=34936',\n",
       "  'https://www.kurly.com/shop/goods/goods_view.php?goodsno=44336',\n",
       "  'https://www.kurly.com/shop/goods/goods_view.php?goodsno=55718',\n",
       "  'https://www.kurly.com/shop/goods/goods_view.php?goodsno=52888',\n",
       "  'https://www.kurly.com/shop/goods/goods_view.php?goodsno=53287',\n",
       "  'https://www.kurly.com/shop/goods/goods_view.php?goodsno=50531',\n",
       "  'https://www.kurly.com/shop/goods/goods_view.php?goodsno=50387',\n",
       "  'https://www.kurly.com/shop/goods/goods_view.php?goodsno=52245',\n",
       "  'https://www.kurly.com/shop/goods/goods_view.php?goodsno=52890',\n",
       "  'https://www.kurly.com/shop/goods/goods_view.php?goodsno=49444',\n",
       "  'https://www.kurly.com/shop/goods/goods_view.php?goodsno=2973',\n",
       "  'https://www.kurly.com/shop/goods/goods_view.php?goodsno=51432',\n",
       "  'https://www.kurly.com/shop/goods/goods_view.php?goodsno=53101',\n",
       "  'https://www.kurly.com/shop/goods/goods_view.php?goodsno=53288',\n",
       "  'https://www.kurly.com/shop/goods/goods_view.php?goodsno=3084',\n",
       "  'https://www.kurly.com/shop/goods/goods_view.php?goodsno=41886',\n",
       "  'https://www.kurly.com/shop/goods/goods_view.php?goodsno=55411',\n",
       "  'https://www.kurly.com/shop/goods/goods_view.php?goodsno=52887',\n",
       "  'https://www.kurly.com/shop/goods/goods_view.php?goodsno=41658',\n",
       "  'https://www.kurly.com/shop/goods/goods_view.php?goodsno=3088',\n",
       "  'https://www.kurly.com/shop/goods/goods_view.php?goodsno=54080',\n",
       "  'https://www.kurly.com/shop/goods/goods_view.php?goodsno=50386',\n",
       "  'https://www.kurly.com/shop/goods/goods_view.php?goodsno=51600',\n",
       "  'https://www.kurly.com/shop/goods/goods_view.php?goodsno=45157',\n",
       "  'https://www.kurly.com/shop/goods/goods_view.php?goodsno=48950',\n",
       "  'https://www.kurly.com/shop/goods/goods_view.php?goodsno=45158',\n",
       "  'https://www.kurly.com/shop/goods/goods_view.php?goodsno=54081',\n",
       "  'https://www.kurly.com/shop/goods/goods_view.php?goodsno=54292',\n",
       "  'https://www.kurly.com/shop/goods/goods_view.php?goodsno=50388',\n",
       "  'https://www.kurly.com/shop/goods/goods_view.php?goodsno=3085',\n",
       "  'https://www.kurly.com/shop/goods/goods_view.php?goodsno=41885',\n",
       "  'https://www.kurly.com/shop/goods/goods_view.php?goodsno=35685',\n",
       "  'https://www.kurly.com/shop/goods/goods_view.php?goodsno=32411',\n",
       "  'https://www.kurly.com/shop/goods/goods_view.php?goodsno=12446',\n",
       "  'https://www.kurly.com/shop/goods/goods_view.php?goodsno=44341',\n",
       "  'https://www.kurly.com/shop/goods/goods_view.php?goodsno=51148',\n",
       "  'https://www.kurly.com/shop/goods/goods_view.php?goodsno=54298',\n",
       "  'https://www.kurly.com/shop/goods/goods_view.php?goodsno=50529',\n",
       "  'https://www.kurly.com/shop/goods/goods_view.php?goodsno=52367',\n",
       "  'https://www.kurly.com/shop/goods/goods_view.php?goodsno=53942',\n",
       "  'https://www.kurly.com/shop/goods/goods_view.php?goodsno=50911',\n",
       "  'https://www.kurly.com/shop/goods/goods_view.php?goodsno=44316',\n",
       "  'https://www.kurly.com/shop/goods/goods_view.php?goodsno=55407',\n",
       "  'https://www.kurly.com/shop/goods/goods_view.php?goodsno=44317',\n",
       "  'https://www.kurly.com/shop/goods/goods_view.php?goodsno=53290',\n",
       "  'https://www.kurly.com/shop/goods/goods_view.php?goodsno=37900',\n",
       "  'https://www.kurly.com/shop/goods/goods_view.php?goodsno=51760',\n",
       "  'https://www.kurly.com/shop/goods/goods_view.php?goodsno=30919',\n",
       "  'https://www.kurly.com/shop/goods/goods_view.php?goodsno=49446',\n",
       "  'https://www.kurly.com/shop/goods/goods_view.php?goodsno=47965',\n",
       "  'https://www.kurly.com/shop/goods/goods_view.php?goodsno=54293',\n",
       "  'https://www.kurly.com/shop/goods/goods_view.php?goodsno=3083',\n",
       "  'https://www.kurly.com/shop/goods/goods_view.php?goodsno=52244',\n",
       "  'https://www.kurly.com/shop/goods/goods_view.php?goodsno=53871',\n",
       "  'https://www.kurly.com/shop/goods/goods_view.php?goodsno=53291',\n",
       "  'https://www.kurly.com/shop/goods/goods_view.php?goodsno=54296',\n",
       "  'https://www.kurly.com/shop/goods/goods_view.php?goodsno=54470',\n",
       "  'https://www.kurly.com/shop/goods/goods_view.php?goodsno=42136',\n",
       "  'https://www.kurly.com/shop/goods/goods_view.php?goodsno=53289',\n",
       "  'https://www.kurly.com/shop/goods/goods_view.php?goodsno=48956',\n",
       "  'https://www.kurly.com/shop/goods/goods_view.php?goodsno=50533',\n",
       "  'https://www.kurly.com/shop/goods/goods_view.php?goodsno=41655',\n",
       "  'https://www.kurly.com/shop/goods/goods_view.php?goodsno=3086',\n",
       "  'https://www.kurly.com/shop/goods/goods_view.php?goodsno=51759',\n",
       "  'https://www.kurly.com/shop/goods/goods_view.php?goodsno=54297',\n",
       "  'https://www.kurly.com/shop/goods/goods_view.php?goodsno=41654',\n",
       "  'https://www.kurly.com/shop/goods/goods_view.php?goodsno=50912',\n",
       "  'https://www.kurly.com/shop/goods/goods_view.php?goodsno=12443',\n",
       "  'https://www.kurly.com/shop/goods/goods_view.php?goodsno=51147',\n",
       "  'https://www.kurly.com/shop/goods/goods_view.php?goodsno=51433',\n",
       "  'https://www.kurly.com/shop/goods/goods_view.php?goodsno=48005',\n",
       "  'https://www.kurly.com/shop/goods/goods_view.php?goodsno=50532',\n",
       "  'https://www.kurly.com/shop/goods/goods_view.php?goodsno=52248',\n",
       "  'https://www.kurly.com/shop/goods/goods_view.php?goodsno=49445',\n",
       "  'https://www.kurly.com/shop/goods/goods_view.php?goodsno=35689',\n",
       "  'https://www.kurly.com/shop/goods/goods_view.php?goodsno=53166',\n",
       "  'https://www.kurly.com/shop/goods/goods_view.php?goodsno=42140',\n",
       "  'https://www.kurly.com/shop/goods/goods_view.php?goodsno=55381'],\n",
       " ['https://www.kurly.com/shop/goods/goods_view.php?goodsno=34287',\n",
       "  'https://www.kurly.com/shop/goods/goods_view.php?goodsno=51215',\n",
       "  'https://www.kurly.com/shop/goods/goods_view.php?goodsno=26348',\n",
       "  'https://www.kurly.com/shop/goods/goods_view.php?goodsno=26349',\n",
       "  'https://www.kurly.com/shop/goods/goods_view.php?goodsno=41742',\n",
       "  'https://www.kurly.com/shop/goods/goods_view.php?goodsno=26376',\n",
       "  'https://www.kurly.com/shop/goods/goods_view.php?goodsno=49460',\n",
       "  'https://www.kurly.com/shop/goods/goods_view.php?goodsno=13152',\n",
       "  'https://www.kurly.com/shop/goods/goods_view.php?goodsno=27921',\n",
       "  'https://www.kurly.com/shop/goods/goods_view.php?goodsno=45157',\n",
       "  'https://www.kurly.com/shop/goods/goods_view.php?goodsno=45158',\n",
       "  'https://www.kurly.com/shop/goods/goods_view.php?goodsno=27922',\n",
       "  'https://www.kurly.com/shop/goods/goods_view.php?goodsno=45743',\n",
       "  'https://www.kurly.com/shop/goods/goods_view.php?goodsno=40664',\n",
       "  'https://www.kurly.com/shop/goods/goods_view.php?goodsno=41743',\n",
       "  'https://www.kurly.com/shop/goods/goods_view.php?goodsno=30141',\n",
       "  'https://www.kurly.com/shop/goods/goods_view.php?goodsno=45744',\n",
       "  'https://www.kurly.com/shop/goods/goods_view.php?goodsno=51599',\n",
       "  'https://www.kurly.com/shop/goods/goods_view.php?goodsno=44681',\n",
       "  'https://www.kurly.com/shop/goods/goods_view.php?goodsno=41653',\n",
       "  'https://www.kurly.com/shop/goods/goods_view.php?goodsno=45745',\n",
       "  'https://www.kurly.com/shop/goods/goods_view.php?goodsno=45742',\n",
       "  'https://www.kurly.com/shop/goods/goods_view.php?goodsno=30139',\n",
       "  'https://www.kurly.com/shop/goods/goods_view.php?goodsno=35312',\n",
       "  'https://www.kurly.com/shop/goods/goods_view.php?goodsno=55855',\n",
       "  'https://www.kurly.com/shop/goods/goods_view.php?goodsno=30140',\n",
       "  'https://www.kurly.com/shop/goods/goods_view.php?goodsno=44682',\n",
       "  'https://www.kurly.com/shop/goods/goods_view.php?goodsno=41744'],\n",
       " ['https://www.kurly.com/shop/goods/goods_view.php?goodsno=49159',\n",
       "  'https://www.kurly.com/shop/goods/goods_view.php?goodsno=34287',\n",
       "  'https://www.kurly.com/shop/goods/goods_view.php?goodsno=44335',\n",
       "  'https://www.kurly.com/shop/goods/goods_view.php?goodsno=37363',\n",
       "  'https://www.kurly.com/shop/goods/goods_view.php?goodsno=49724',\n",
       "  'https://www.kurly.com/shop/goods/goods_view.php?goodsno=51509',\n",
       "  'https://www.kurly.com/shop/goods/goods_view.php?goodsno=53833',\n",
       "  'https://www.kurly.com/shop/goods/goods_view.php?goodsno=40560',\n",
       "  'https://www.kurly.com/shop/goods/goods_view.php?goodsno=44097',\n",
       "  'https://www.kurly.com/shop/goods/goods_view.php?goodsno=55102',\n",
       "  'https://www.kurly.com/shop/goods/goods_view.php?goodsno=50288',\n",
       "  'https://www.kurly.com/shop/goods/goods_view.php?goodsno=47564',\n",
       "  'https://www.kurly.com/shop/goods/goods_view.php?goodsno=48619',\n",
       "  'https://www.kurly.com/shop/goods/goods_view.php?goodsno=44339',\n",
       "  'https://www.kurly.com/shop/goods/goods_view.php?goodsno=50289',\n",
       "  'https://www.kurly.com/shop/goods/goods_view.php?goodsno=43713',\n",
       "  'https://www.kurly.com/shop/goods/goods_view.php?goodsno=47965',\n",
       "  'https://www.kurly.com/shop/goods/goods_view.php?goodsno=55103',\n",
       "  'https://www.kurly.com/shop/goods/goods_view.php?goodsno=26508',\n",
       "  'https://www.kurly.com/shop/goods/goods_view.php?goodsno=51312',\n",
       "  'https://www.kurly.com/shop/goods/goods_view.php?goodsno=26610',\n",
       "  'https://www.kurly.com/shop/goods/goods_view.php?goodsno=44710',\n",
       "  'https://www.kurly.com/shop/goods/goods_view.php?goodsno=44708',\n",
       "  'https://www.kurly.com/shop/goods/goods_view.php?goodsno=26521',\n",
       "  'https://www.kurly.com/shop/goods/goods_view.php?goodsno=55381',\n",
       "  'https://www.kurly.com/shop/goods/goods_view.php?goodsno=45379',\n",
       "  'https://www.kurly.com/shop/goods/goods_view.php?goodsno=34112',\n",
       "  'https://www.kurly.com/shop/goods/goods_view.php?goodsno=48007',\n",
       "  'https://www.kurly.com/shop/goods/goods_view.php?goodsno=34111',\n",
       "  'https://www.kurly.com/shop/goods/goods_view.php?goodsno=42208',\n",
       "  'https://www.kurly.com/shop/goods/goods_view.php?goodsno=43706',\n",
       "  'https://www.kurly.com/shop/goods/goods_view.php?goodsno=29895',\n",
       "  'https://www.kurly.com/shop/goods/goods_view.php?goodsno=44338',\n",
       "  'https://www.kurly.com/shop/goods/goods_view.php?goodsno=43003',\n",
       "  'https://www.kurly.com/shop/goods/goods_view.php?goodsno=37980',\n",
       "  'https://www.kurly.com/shop/goods/goods_view.php?goodsno=43709',\n",
       "  'https://www.kurly.com/shop/goods/goods_view.php?goodsno=7319',\n",
       "  'https://www.kurly.com/shop/goods/goods_view.php?goodsno=43705',\n",
       "  'https://www.kurly.com/shop/goods/goods_view.php?goodsno=9727',\n",
       "  'https://www.kurly.com/shop/goods/goods_view.php?goodsno=44660',\n",
       "  'https://www.kurly.com/shop/goods/goods_view.php?goodsno=45381',\n",
       "  'https://www.kurly.com/shop/goods/goods_view.php?goodsno=36496',\n",
       "  'https://www.kurly.com/shop/goods/goods_view.php?goodsno=44709',\n",
       "  'https://www.kurly.com/shop/goods/goods_view.php?goodsno=43711',\n",
       "  'https://www.kurly.com/shop/goods/goods_view.php?goodsno=43714',\n",
       "  'https://www.kurly.com/shop/goods/goods_view.php?goodsno=45380',\n",
       "  'https://www.kurly.com/shop/goods/goods_view.php?goodsno=7318',\n",
       "  'https://www.kurly.com/shop/goods/goods_view.php?goodsno=7320',\n",
       "  'https://www.kurly.com/shop/goods/goods_view.php?goodsno=34500',\n",
       "  'https://www.kurly.com/shop/goods/goods_view.php?goodsno=34059',\n",
       "  'https://www.kurly.com/shop/goods/goods_view.php?goodsno=37110',\n",
       "  'https://www.kurly.com/shop/goods/goods_view.php?goodsno=34058',\n",
       "  'https://www.kurly.com/shop/goods/goods_view.php?goodsno=34501',\n",
       "  'https://www.kurly.com/shop/goods/goods_view.php?goodsno=11689',\n",
       "  'https://www.kurly.com/shop/goods/goods_view.php?goodsno=36495',\n",
       "  'https://www.kurly.com/shop/goods/goods_view.php?goodsno=32979'],\n",
       " ['https://www.kurly.com/shop/goods/goods_view.php?goodsno=11021',\n",
       "  'https://www.kurly.com/shop/goods/goods_view.php?goodsno=42152',\n",
       "  'https://www.kurly.com/shop/goods/goods_view.php?goodsno=31684',\n",
       "  'https://www.kurly.com/shop/goods/goods_view.php?goodsno=35688',\n",
       "  'https://www.kurly.com/shop/goods/goods_view.php?goodsno=26349',\n",
       "  'https://www.kurly.com/shop/goods/goods_view.php?goodsno=53287',\n",
       "  'https://www.kurly.com/shop/goods/goods_view.php?goodsno=41742',\n",
       "  'https://www.kurly.com/shop/goods/goods_view.php?goodsno=26376',\n",
       "  'https://www.kurly.com/shop/goods/goods_view.php?goodsno=53288',\n",
       "  'https://www.kurly.com/shop/goods/goods_view.php?goodsno=41071',\n",
       "  'https://www.kurly.com/shop/goods/goods_view.php?goodsno=35687',\n",
       "  'https://www.kurly.com/shop/goods/goods_view.php?goodsno=27922',\n",
       "  'https://www.kurly.com/shop/goods/goods_view.php?goodsno=44316',\n",
       "  'https://www.kurly.com/shop/goods/goods_view.php?goodsno=44317',\n",
       "  'https://www.kurly.com/shop/goods/goods_view.php?goodsno=53290',\n",
       "  'https://www.kurly.com/shop/goods/goods_view.php?goodsno=43909',\n",
       "  'https://www.kurly.com/shop/goods/goods_view.php?goodsno=53291',\n",
       "  'https://www.kurly.com/shop/goods/goods_view.php?goodsno=41743',\n",
       "  'https://www.kurly.com/shop/goods/goods_view.php?goodsno=30141',\n",
       "  'https://www.kurly.com/shop/goods/goods_view.php?goodsno=45744',\n",
       "  'https://www.kurly.com/shop/goods/goods_view.php?goodsno=53289',\n",
       "  'https://www.kurly.com/shop/goods/goods_view.php?goodsno=43908',\n",
       "  'https://www.kurly.com/shop/goods/goods_view.php?goodsno=54848',\n",
       "  'https://www.kurly.com/shop/goods/goods_view.php?goodsno=35312',\n",
       "  'https://www.kurly.com/shop/goods/goods_view.php?goodsno=34878',\n",
       "  'https://www.kurly.com/shop/goods/goods_view.php?goodsno=44682',\n",
       "  'https://www.kurly.com/shop/goods/goods_view.php?goodsno=9209',\n",
       "  'https://www.kurly.com/shop/goods/goods_view.php?goodsno=44314',\n",
       "  'https://www.kurly.com/shop/goods/goods_view.php?goodsno=44313',\n",
       "  'https://www.kurly.com/shop/goods/goods_view.php?goodsno=44315',\n",
       "  'https://www.kurly.com/shop/goods/goods_view.php?goodsno=45465']]"
      ]
     },
     "execution_count": 221,
     "metadata": {},
     "output_type": "execute_result"
    }
   ],
   "source": [
    "goods_no_detail_list"
   ]
  },
  {
   "cell_type": "code",
   "execution_count": 126,
   "metadata": {},
   "outputs": [
    {
     "name": "stdout",
     "output_type": "stream",
     "text": [
      "기본채소\n",
      "쌈·샐러드·간편채소\n",
      "브로콜리·특수채소\n",
      "콩나물·버섯류\n",
      "시금치·부추·나물\n",
      "양파·마늘·생강·파\n",
      "파프리카·피망·고추\n"
     ]
    }
   ],
   "source": [
    "for name, noList in zip(type_name_list, goods_no_detail_list):\n",
    "    print(name)\n",
    "    for no in noList:\n",
    "        driver.get(no)\n",
    "        time.sleep(1)"
   ]
  },
  {
   "cell_type": "markdown",
   "metadata": {},
   "source": [
    "# 상품 디테일 페이지"
   ]
  },
  {
   "cell_type": "code",
   "execution_count": 665,
   "metadata": {},
   "outputs": [],
   "source": [
    "# test code\n",
    "# driver.get('https://www.kurly.com/shop/goods/goods_view.php?&goodsno=51509')\n",
    "driver.get('https://www.kurly.com/shop/goods/goods_view.php?goodsno=34461')"
   ]
  },
  {
   "cell_type": "code",
   "execution_count": 666,
   "metadata": {},
   "outputs": [
    {
     "name": "stdout",
     "output_type": "stream",
     "text": [
      "goods_image https://img-cf.kurly.com/shop/data/goods/155123328443y0.jpg\n"
     ]
    }
   ],
   "source": [
    "goods_image = driver.find_element_by_xpath(\n",
    "    '/html/body/div/div[2]/div[2]/div/div[2]/div[2]/div/div[1]').get_attribute('style')\n",
    "goods_image = goods_image.split('\"')\n",
    "print('goods_image', goods_image[1])"
   ]
  },
  {
   "cell_type": "code",
   "execution_count": 667,
   "metadata": {},
   "outputs": [
    {
     "name": "stdout",
     "output_type": "stream",
     "text": [
      "goods_title 유기농 다진 애호박 60g (냉동)\n"
     ]
    }
   ],
   "source": [
    "goods_title = driver.find_element_by_xpath(\n",
    "    '/html/body/div/div[2]/div[2]/div/div[2]/div[2]/div/p[1]/strong').get_attribute('innerText')\n",
    "print('goods_title', goods_title)"
   ]
  },
  {
   "cell_type": "code",
   "execution_count": 668,
   "metadata": {},
   "outputs": [
    {
     "name": "stdout",
     "output_type": "stream",
     "text": [
      "short_desc 부드럽고 달큰하게 즐기는 영양\n"
     ]
    }
   ],
   "source": [
    "short_desc = driver.find_element_by_xpath(\n",
    "    '/html/body/div/div[2]/div[2]/div/div[2]/div[2]/div/p[1]/span[2]').get_attribute('innerText')\n",
    "print('short_desc', short_desc)"
   ]
  },
  {
   "cell_type": "code",
   "execution_count": 669,
   "metadata": {},
   "outputs": [
    {
     "name": "stdout",
     "output_type": "stream",
     "text": [
      "price result 4300\n"
     ]
    }
   ],
   "source": [
    "try:\n",
    "    # 미 할인 상품\n",
    "    goods_price = driver.find_element_by_xpath(\n",
    "        '/html/body/div/div[2]/div[2]/div/div[2]/div[2]/div/p[2]/span[1]/span/span').get_attribute(\n",
    "        'innerText')\n",
    "except NoSuchElementException:\n",
    "    # 할인 상품\n",
    "    goods_price = driver.find_element_by_xpath(\n",
    "        '/html/body/div/div[2]/div[2]/div/div[2]/div[2]/div/p[3]/span[1]/span[1]/span[1]').get_attribute(\n",
    "        'innerText')\n",
    "\n",
    "price = re.findall('\\d+', goods_price)\n",
    "result = ''\n",
    "for value in price:\n",
    "    result += value\n",
    "print('price result', result)"
   ]
  },
  {
   "cell_type": "code",
   "execution_count": 670,
   "metadata": {},
   "outputs": [
    {
     "name": "stdout",
     "output_type": "stream",
     "text": [
      "goods_each 1개\n"
     ]
    }
   ],
   "source": [
    "goods_each_innerText = driver.find_element_by_xpath(\n",
    "    '/html/body/div/div[2]/div[2]/div/div[2]/div[2]/div/div[2]/dl[1]/dt').get_attribute('innerText')\n",
    "if '판매단위' in goods_each_innerText:\n",
    "    goods_each = driver.find_element_by_xpath(\n",
    "        '/html/body/div/div[2]/div[2]/div/div[2]/div[2]/div/div[2]/dl[1]/dd').get_attribute('innerText')\n",
    "    print('goods_each', goods_each)\n",
    "elif '배송구분' in goods_each_innerText:\n",
    "    transfer = driver.find_element_by_xpath(\n",
    "        '/html/body/div/div[2]/div[2]/div/div[2]/div[2]/div/div[2]/dl[1]/dd').get_attribute('innerText')\n",
    "    print('transfer', transfer)"
   ]
  },
  {
   "cell_type": "code",
   "execution_count": 671,
   "metadata": {},
   "outputs": [
    {
     "name": "stdout",
     "output_type": "stream",
     "text": [
      "goods_each_weight 60g\n"
     ]
    }
   ],
   "source": [
    "goods_each_weight = driver.find_element_by_xpath(\n",
    "    '/html/body/div/div[2]/div[2]/div/div[2]/div[2]/div/div[2]/dl[2]/dd').get_attribute('innerText')\n",
    "print('goods_each_weight', goods_each_weight)"
   ]
  },
  {
   "cell_type": "code",
   "execution_count": 672,
   "metadata": {},
   "outputs": [
    {
     "name": "stdout",
     "output_type": "stream",
     "text": [
      "transfer 샛별배송/택배배송\n"
     ]
    }
   ],
   "source": [
    "# 배송 구분 또는 포장 타입\n",
    "transfer_innerText = driver.find_element_by_xpath(\n",
    "    '/html/body/div/div[2]/div[2]/div/div[2]/div[2]/div/div[2]/dl[3]/dt').get_attribute('innerText')\n",
    "if '배송구분' in transfer_innerText:\n",
    "    transfer = driver.find_element_by_xpath(\n",
    "        '/html/body/div/div[2]/div[2]/div/div[2]/div[2]/div/div[2]/dl[3]/dd').get_attribute('innerText')\n",
    "    print('transfer', transfer)\n",
    "elif '포장타입' in transfer_innerText:\n",
    "    packing = driver.find_element_by_xpath(\n",
    "        '/html/body/div/div[2]/div[2]/div/div[2]/div[2]/div/div[2]/dl[3]').get_attribute('innerText')\n",
    "    print('packing', packing)"
   ]
  },
  {
   "cell_type": "code",
   "execution_count": 673,
   "metadata": {},
   "outputs": [
    {
     "name": "stdout",
     "output_type": "stream",
     "text": [
      "transfer 냉동/종이포장\n",
      "택배배송은 에코포장이 스티로폼으로 대체됩니다.\n"
     ]
    }
   ],
   "source": [
    "goods_origin_innerText = driver.find_element_by_xpath(\n",
    "    '/html/body/div/div[2]/div[2]/div/div[2]/div[2]/div/div[2]/dl[4]/dt').get_attribute('innerText')\n",
    "# print(goods_origin_innerText)\n",
    "if '원산지' in goods_origin_innerText:\n",
    "    goods_origin = driver.find_element_by_xpath(\n",
    "        '/html/body/div/div[2]/div[2]/div/div[2]/div[2]/div/div[2]/dl[4]/dd').get_attribute('innerText')\n",
    "    print('goods_origin', goods_origin)\n",
    "elif '포장타입' in goods_origin_innerText:\n",
    "    packing = driver.find_element_by_xpath(\n",
    "        '/html/body/div/div[2]/div[2]/div/div[2]/div[2]/div/div[2]/dl[4]/dd').get_attribute('innerText')\n",
    "    print('transfer', packing)"
   ]
  },
  {
   "cell_type": "code",
   "execution_count": 674,
   "metadata": {},
   "outputs": [
    {
     "name": "stdout",
     "output_type": "stream",
     "text": [
      "allergy - 호두, 땅콩, 대두, 버터(우유), 밀과 같은 시설에서 제조\n"
     ]
    }
   ],
   "source": [
    "# 포장 정보 또는 알레르기\n",
    "try:\n",
    "    goods_packing_innerText = driver.find_element_by_xpath(\n",
    "        '/html/body/div/div[2]/div[2]/div/div[2]/div[2]/div/div[2]/dl[5]/dt').get_attribute('innerText')\n",
    "    if '포장' in goods_packing_innerText:\n",
    "        packing = driver.find_element_by_xpath(\n",
    "            '/html/body/div/div[2]/div[2]/div/div[2]/div[2]/div/div[2]/dl[5]/dd').get_attribute('innerText')\n",
    "        print('packing', packing)\n",
    "    elif '알레르기' in goods_packing_innerText:\n",
    "        allergy = driver.find_element_by_xpath(\n",
    "            '/html/body/div/div[2]/div[2]/div/div[2]/div[2]/div/div[2]/dl[5]/dd').get_attribute('innerText')\n",
    "        print('allergy', allergy)\n",
    "except NoSuchElementException:\n",
    "    packing = None\n",
    "    allergy = None"
   ]
  },
  {
   "cell_type": "code",
   "execution_count": 675,
   "metadata": {},
   "outputs": [],
   "source": [
    "# 안내사항, 유통기한, 안내사항\n",
    "try:\n",
    "\n",
    "    goods_info_innerText = driver.find_element_by_xpath(\n",
    "        '/html/body/div/div[2]/div[2]/div/div[2]/div[2]/div/div[2]/dl[6]/dt').get_attribute('innerText')\n",
    "    if '안내' in goods_info_innerText:\n",
    "        info = driver.find_element_by_xpath(\n",
    "            '/html/body/div/div[2]/div[2]/div/div[2]/div[2]/div/div[2]/dl[6]/dd').get_attribute('innerText')\n",
    "        print('info', info)\n",
    "    elif '유통기한' in goods_info_innerText:\n",
    "        expiration = driver.find_element_by_xpath(\n",
    "            '/html/body/div/div[2]/div[2]/div/div[2]/div[2]/div/div[2]/dl[6]/dd').get_attribute('innerText')\n",
    "        print('expiration', expiration)\n",
    "    elif '알레르기정보' in goods_info_innerText:\n",
    "        allergy = driver.find_element_by_xpath(\n",
    "            '/html/body/div/div[2]/div[2]/div/div[2]/div[2]/div/div[2]/dl[6]/dd').get_attribute('innerText')\n",
    "        print('allergy', allergy)\n",
    "except NoSuchElementException:\n",
    "    info = None\n",
    "    expiration = None\n",
    "    allergy = None"
   ]
  },
  {
   "cell_type": "code",
   "execution_count": 676,
   "metadata": {},
   "outputs": [
    {
     "name": "stdout",
     "output_type": "stream",
     "text": [
      "image_one https://img-cf.kurly.com/shop/data/goodsview/20190227/gv40000043876_1.jpg\n"
     ]
    }
   ],
   "source": [
    "image_one = driver.find_element_by_xpath(\n",
    "    '/html/body/div/div[2]/div[2]/div/div[3]/div/div[1]/div/div/div[1]/img').get_attribute('src')\n",
    "print('image_one', image_one)"
   ]
  },
  {
   "cell_type": "code",
   "execution_count": 677,
   "metadata": {},
   "outputs": [
    {
     "name": "stdout",
     "output_type": "stream",
     "text": [
      "text_one_title 부드럽고 달큰하게 즐기는 영양\n"
     ]
    }
   ],
   "source": [
    "text_one_title = driver.find_element_by_xpath(\n",
    "    '//*[@id=\"goods-description\"]/div/div[1]/div[2]/h3/small').get_attribute('innerText')\n",
    "print('text_one_title', text_one_title)"
   ]
  },
  {
   "cell_type": "code",
   "execution_count": 678,
   "metadata": {},
   "outputs": [
    {
     "name": "stdout",
     "output_type": "stream",
     "text": [
      "text_one_context 유기농 다진 애호박 \n"
     ]
    }
   ],
   "source": [
    "text_one_context_dummy = driver.find_element_by_xpath(\n",
    "    '//*[@id=\"goods-description\"]/div/div[1]/div[2]/h3').get_attribute('innerText')\n",
    "\n",
    "text_one_context_dummy = text_one_context_dummy.split('\\n')\n",
    "text_one_context = ''\n",
    "for i in text_one_context_dummy[1:]:\n",
    "    text_one_context += i + ' '\n",
    "print('text_one_context', text_one_context)"
   ]
  },
  {
   "cell_type": "code",
   "execution_count": 679,
   "metadata": {},
   "outputs": [
    {
     "name": "stdout",
     "output_type": "stream",
     "text": [
      "text_one_description 우리 아이가 먹는 음식인 만큼 꼼꼼히 좋은 재료를 골라 정성들여 요리하고 싶은 것이 엄마 아빠의 마음이죠. 하지만 재료를 하나하나 엄선해 손질하고 요리하기란 쉽지 않아요. 어떤 재료를 선택하느냐에 따라 손질에만 꼬박 하루가 걸리기도 하니깐요. 일과 육아를 병행해야 하는 분들이라면 더욱 고민이 될 텐데요. 컬리는 이런 걱정을 덜어줄 다진 애호박을 준비했어요.\n",
      "\n",
      "애호박은 각종 비타민과 영양소가 풍부한 채소예요. 소화흡수가 잘되기 때문에 아이들 음식에 사용하기 좋고요. 다양한 요리에 활용할 수 있어요. 신선한 유기농 애호박을 깨끗하게 세척한 후, 잘게 다져 한 번에 쓰기 좋게 15g씩 4개의 블록으로 나누어 담았어요. 사용하실 때 포크로 눌러주면 블록을 손쉽게 분리해 사용할 수 있습니다. 남은 애호박은 냉동실에 다시 보관하셨다가 필요할 때마다 꺼내어 사용하시면 돼요.\n"
     ]
    }
   ],
   "source": [
    "text_one_description = driver.find_element_by_xpath(\n",
    "    '//*[@id=\"goods-description\"]/div/div[1]/div[2]/p').get_attribute('innerText')\n",
    "print('text_one_description', text_one_description)"
   ]
  },
  {
   "cell_type": "code",
   "execution_count": 680,
   "metadata": {},
   "outputs": [
    {
     "name": "stdout",
     "output_type": "stream",
     "text": [
      "check_point_image https://img-cf.kurly.com/shop/data/goodsview/20190227/gv10000043877_1.jpg\n"
     ]
    }
   ],
   "source": [
    "try:\n",
    "    check_point_image = driver.find_element_by_xpath(\n",
    "        '//*[@id=\"goods-description\"]/div/div/div/div/img').get_attribute('src')\n",
    "    print('check_point_image', check_point_image)\n",
    "except NoSuchElementException:\n",
    "    check_point_image = None"
   ]
  },
  {
   "cell_type": "code",
   "execution_count": 681,
   "metadata": {},
   "outputs": [
    {
     "name": "stdout",
     "output_type": "stream",
     "text": [
      "info_image https://img-cf.kurly.com/shop/data/goodsview/20190619/gv10000053520_1.jpg\n"
     ]
    }
   ],
   "source": [
    "info_image = driver.find_element_by_xpath(\n",
    "    '/html/body/div/div[2]/div[2]/div/div[3]/div/div[2]/div/p/img').get_attribute('src')\n",
    "print('info_image', info_image)"
   ]
  },
  {
   "cell_type": "markdown",
   "metadata": {},
   "source": [
    "# 상세 정보"
   ]
  },
  {
   "cell_type": "code",
   "execution_count": 737,
   "metadata": {},
   "outputs": [],
   "source": [
    "var_titles = driver.find_elements_by_xpath('//*[@id=\"goods-infomation\"]/table/tbody/tr/th')\n",
    "var_descs = driver.find_elements_by_xpath('//*[@id=\"goods-infomation\"]/table/tbody/tr/td')\n"
   ]
  },
  {
   "cell_type": "code",
   "execution_count": 738,
   "metadata": {},
   "outputs": [
    {
     "name": "stdout",
     "output_type": "stream",
     "text": [
      "식품의유형\n",
      "상품설명 및 상품이미지 참조 \n",
      "\n",
      "생산자및소재지(수입품의경우생산자,수입자및제조국)\n",
      "상품설명 및 상품이미지 참조 \n",
      "\n",
      "제조연월일,유통기한또는품질유지기한\n",
      "제품 별도 라벨 표기 참조 \n",
      "\n",
      "포장단위별용량(중량),수량\n",
      "상품설명 및 상품이미지 참조 \n",
      "\n",
      "원재료명및함량(농수산물의원산지표시에관한법률에따른원산지표시포함)\n",
      "상품설명 및 상품이미지 참조 \n",
      "\n",
      "영양성분(식품위생법에따른영양성분표시대상식품에한함)\n",
      "상품설명 및 상품이미지 참조 \n",
      "\n",
      "유전자변형식품에해당하는경우의표시\n",
      "해당사항 없음 \n",
      "\n",
      "영유아식또는체중조절식품등에해당하는경우표시광고사전심의필유무및부작용발생가능성\n",
      "해당사항 없음 \n",
      "\n",
      "수입식품에해당하는경우“식품위생법에따른수입신고를필함＂의문구\n",
      "식품위생법에 따른 수입신고를 필함 \n",
      "\n",
      "소비자상담관련전화번호\n",
      "마켓컬리 고객행복센터 (1644-1107) \n",
      "\n"
     ]
    },
    {
     "name": "stderr",
     "output_type": "stream",
     "text": [
      "<>:5: SyntaxWarning: \"is\" with a literal. Did you mean \"==\"?\n",
      "<>:5: SyntaxWarning: \"is\" with a literal. Did you mean \"==\"?\n",
      "<ipython-input-738-86e7cfb26024>:5: SyntaxWarning: \"is\" with a literal. Did you mean \"==\"?\n",
      "  if len(var_titles) is 0:\n"
     ]
    }
   ],
   "source": [
    "for index, desc in enumerate(var_descs):\n",
    "    title = var_titles[index].get_attribute('innerText')\n",
    "    print(title)\n",
    "    print(desc.get_attribute('innerText'), '\\n')\n",
    "if len(var_titles) is 0:\n",
    "    pass"
   ]
  },
  {
   "cell_type": "code",
   "execution_count": 721,
   "metadata": {},
   "outputs": [
    {
     "data": {
      "text/plain": [
       "'유통기한'"
      ]
     },
     "execution_count": 721,
     "metadata": {},
     "output_type": "execute_result"
    }
   ],
   "source": [
    "var_titles[1].get_attribute('innerText')"
   ]
  },
  {
   "cell_type": "code",
   "execution_count": null,
   "metadata": {},
   "outputs": [],
   "source": []
  }
 ],
 "metadata": {
  "kernelspec": {
   "display_name": "Python 3",
   "language": "python",
   "name": "python3"
  },
  "language_info": {
   "codemirror_mode": {
    "name": "ipython",
    "version": 3
   },
   "file_extension": ".py",
   "mimetype": "text/x-python",
   "name": "python",
   "nbconvert_exporter": "python",
   "pygments_lexer": "ipython3",
   "version": "3.8.2"
  }
 },
 "nbformat": 4,
 "nbformat_minor": 4
}
