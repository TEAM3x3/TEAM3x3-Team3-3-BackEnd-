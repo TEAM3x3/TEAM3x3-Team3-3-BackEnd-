{
 "cells": [
  {
   "cell_type": "code",
   "execution_count": 8,
   "metadata": {},
   "outputs": [],
   "source": [
    "import requests\n",
    "from django.core.files import File\n",
    "from selenium import webdriver\n",
    "import time"
   ]
  },
  {
   "cell_type": "code",
   "execution_count": 9,
   "metadata": {},
   "outputs": [],
   "source": [
    "driver = webdriver.Chrome('/Users/mac/projects/ChromeWebDriver/chromedriver')"
   ]
  },
  {
   "cell_type": "code",
   "execution_count": 10,
   "metadata": {},
   "outputs": [],
   "source": [
    "driver.get('https://www.kurly.com/shop/goods/goods_list.php?category=907')"
   ]
  },
  {
   "cell_type": "code",
   "execution_count": 11,
   "metadata": {},
   "outputs": [],
   "source": [
    "category_list = [\n",
    "    'https://www.kurly.com/shop/goods/goods_list.php?category=907',\n",
    "    'https://www.kurly.com/shop/goods/goods_list.php?category=908',\n",
    "    'https://www.kurly.com/shop/goods/goods_list.php?category=909',\n",
    "    'https://www.kurly.com/shop/goods/goods_list.php?category=910',\n",
    "    'https://www.kurly.com/shop/goods/goods_list.php?category=911',\n",
    "    'https://www.kurly.com/shop/goods/goods_list.php?category=912',\n",
    "    'https://www.kurly.com/shop/goods/goods_list.php?category=913',\n",
    "    'https://www.kurly.com/shop/goods/goods_list.php?category=914',\n",
    "    'https://www.kurly.com/shop/goods/goods_list.php?category=915',\n",
    "    'https://www.kurly.com/shop/goods/goods_list.php?category=032',\n",
    "    'https://www.kurly.com/shop/goods/goods_list.php?category=918',\n",
    "    'https://www.kurly.com/shop/goods/goods_list.php?category=012',\n",
    "    'https://www.kurly.com/shop/goods/goods_list.php?category=916',\n",
    "    'https://www.kurly.com/shop/goods/goods_list.php?category=085',\n",
    "    'https://www.kurly.com/shop/goods/goods_list.php?category=919',\n",
    "    'https://www.kurly.com/shop/goods/goods_list.php?category=991',\n",
    "]"
   ]
  },
  {
   "cell_type": "code",
   "execution_count": 12,
   "metadata": {},
   "outputs": [],
   "source": [
    "# test code\n",
    "driver.get('https://www.kurly.com/shop/goods/goods_list.php?category=907')"
   ]
  },
  {
   "cell_type": "code",
   "execution_count": 14,
   "metadata": {},
   "outputs": [
    {
     "data": {
      "text/plain": [
       "'채소'"
      ]
     },
     "execution_count": 14,
     "metadata": {},
     "output_type": "execute_result"
    }
   ],
   "source": [
    "# 카테고리 이름\n",
    "category_name = driver.find_element_by_xpath('/html/body/div[1]/div[2]/div[2]/div/div[2]/div[1]/div[2]/div/span[2]').get_attribute('innerText')\n",
    "category_name"
   ]
  },
  {
   "cell_type": "code",
   "execution_count": 26,
   "metadata": {},
   "outputs": [],
   "source": [
    "# 카테고리 타입에서 전체보기 (첫 번째 인덱스) 제외\n",
    "types = driver.find_elements_by_xpath('/html/body/div[1]/div[2]/div[2]/div/div[2]/div[1]/div[2]/ul/li')\n",
    "\n",
    "for index in range(1, len(types)):\n",
    "    if i == 1:\n",
    "        continue\n",
    "    button = driver.find_element_by_xpath(f'/html/body/div[1]/div[2]/div[2]/div/div[2]/div[1]/div[2]/ul/li[{index}]/a')\n",
    "    driver.execute_script(\"arguments[0].click();\", button)\n",
    "    time.sleep(2)"
   ]
  },
  {
   "cell_type": "code",
   "execution_count": 49,
   "metadata": {},
   "outputs": [
    {
     "name": "stdout",
     "output_type": "stream",
     "text": [
      "기본채소\n",
      "쌈·샐러드·간편채소\n",
      "브로콜리·특수채소\n",
      "콩나물·버섯류\n",
      "시금치·부추·나물\n",
      "양파·마늘·생강·파\n",
      "파프리카·피망·고추\n"
     ]
    }
   ],
   "source": [
    "for i in types:\n",
    "    print(i.get_attribute('innerText'))\n",
    "    i.click()"
   ]
  },
  {
   "cell_type": "code",
   "execution_count": 47,
   "metadata": {},
   "outputs": [
    {
     "data": {
      "text/plain": [
       "[<selenium.webdriver.remote.webelement.WebElement (session=\"a7fcf683eec172ab6631837db986b043\", element=\"0.4729449209579053-3\")>,\n",
       " <selenium.webdriver.remote.webelement.WebElement (session=\"a7fcf683eec172ab6631837db986b043\", element=\"0.4729449209579053-4\")>,\n",
       " <selenium.webdriver.remote.webelement.WebElement (session=\"a7fcf683eec172ab6631837db986b043\", element=\"0.4729449209579053-5\")>,\n",
       " <selenium.webdriver.remote.webelement.WebElement (session=\"a7fcf683eec172ab6631837db986b043\", element=\"0.4729449209579053-6\")>,\n",
       " <selenium.webdriver.remote.webelement.WebElement (session=\"a7fcf683eec172ab6631837db986b043\", element=\"0.4729449209579053-7\")>,\n",
       " <selenium.webdriver.remote.webelement.WebElement (session=\"a7fcf683eec172ab6631837db986b043\", element=\"0.4729449209579053-8\")>,\n",
       " <selenium.webdriver.remote.webelement.WebElement (session=\"a7fcf683eec172ab6631837db986b043\", element=\"0.4729449209579053-9\")>]"
      ]
     },
     "execution_count": 47,
     "metadata": {},
     "output_type": "execute_result"
    }
   ],
   "source": [
    "types"
   ]
  },
  {
   "cell_type": "code",
   "execution_count": null,
   "metadata": {},
   "outputs": [],
   "source": []
  }
 ],
 "metadata": {
  "kernelspec": {
   "display_name": "Python 3",
   "language": "python",
   "name": "python3"
  },
  "language_info": {
   "codemirror_mode": {
    "name": "ipython",
    "version": 3
   },
   "file_extension": ".py",
   "mimetype": "text/x-python",
   "name": "python",
   "nbconvert_exporter": "python",
   "pygments_lexer": "ipython3",
   "version": "3.8.2"
  }
 },
 "nbformat": 4,
 "nbformat_minor": 4
}
