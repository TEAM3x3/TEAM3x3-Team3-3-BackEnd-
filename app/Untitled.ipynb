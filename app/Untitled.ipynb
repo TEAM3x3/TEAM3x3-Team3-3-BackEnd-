{
 "cells": [
  {
   "cell_type": "code",
   "execution_count": 90,
   "metadata": {},
   "outputs": [],
   "source": [
    "import requests\n",
    "from django.core.files import File\n",
    "from selenium import webdriver\n",
    "import time\n",
    "import datetime\n",
    "import re\n",
    "from selenium.common.exceptions import NoSuchElementException\n",
    "from bs4 import BeautifulSoup\n",
    "\n",
    "\n",
    "\n",
    "driver = webdriver.Chrome('/Users/mac/projects/ChromeWebDriver/chromedriver')"
   ]
  },
  {
   "cell_type": "code",
   "execution_count": 4,
   "metadata": {},
   "outputs": [],
   "source": [
    "url_list = ['https://www.kurly.com/shop/goods/goods_list.php?category=406',\n",
    "            'https://www.kurly.com/shop/goods/goods_list.php?category=407',\n",
    "            'https://www.kurly.com/shop/goods/goods_list.php?category=405',\n",
    "            'https://www.kurly.com/shop/goods/goods_list.php?category=403']"
   ]
  },
  {
   "cell_type": "code",
   "execution_count": 60,
   "metadata": {},
   "outputs": [],
   "source": [
    "# [0, 1 은 이벤트와 형식 일치], [2,3은 이미지 추가]\n",
    "driver.get(url_list[2])"
   ]
  },
  {
   "cell_type": "code",
   "execution_count": 61,
   "metadata": {},
   "outputs": [
    {
     "name": "stdout",
     "output_type": "stream",
     "text": [
      "event title >>> 햅쌀로 즐기는 솥밥\n"
     ]
    }
   ],
   "source": [
    "event_title = driver.find_element_by_xpath('//*[@id=\"lnbMenu\"]/div[2]/div/span[2]')\n",
    "# //*[@id=\"lnbMenu\"]/div[2]/div/span[2]\n",
    "print('event title >>>',event_title.get_attribute('innerText'))"
   ]
  },
  {
   "cell_type": "code",
   "execution_count": 62,
   "metadata": {},
   "outputs": [
    {
     "name": "stdout",
     "output_type": "stream",
     "text": [
      "main event image >>>> https://img-cf.kurly.com/shop/data/category/pc_category_sotbob_0909.1599706938.jpg\n"
     ]
    }
   ],
   "source": [
    "main_event_image = driver.find_element_by_xpath('//*[@id=\"bnrCategory\"]/div/img').get_attribute('src')\n",
    "print('main event image >>>>', main_event_image)"
   ]
  },
  {
   "cell_type": "code",
   "execution_count": 63,
   "metadata": {},
   "outputs": [],
   "source": [
    "event_type_list = driver.find_elements_by_xpath('//*[@id=\"lnbMenu\"]/div[2]/ul/li')"
   ]
  },
  {
   "cell_type": "code",
   "execution_count": 64,
   "metadata": {},
   "outputs": [
    {
     "name": "stdout",
     "output_type": "stream",
     "text": [
      "가을 소고기 무밥\n",
      "명란 버섯 솥밥\n",
      "반찬 & 주방용품\n",
      "\n"
     ]
    }
   ],
   "source": [
    "for index, data in enumerate(event_type_list):\n",
    "    if index == 0:\n",
    "        continue\n",
    "    print(data.get_attribute('innerText'))"
   ]
  },
  {
   "cell_type": "code",
   "execution_count": 70,
   "metadata": {},
   "outputs": [
    {
     "name": "stdout",
     "output_type": "stream",
     "text": [
      "//*[@id=\"lnbMenu\"]/div[2]/ul/li[1]\n",
      "전체보기\n",
      "//*[@id=\"lnbMenu\"]/div[2]/ul/li[2]\n",
      "가을 소고기 무밥\n",
      "//*[@id=\"lnbMenu\"]/div[2]/ul/li[3]\n",
      "명란 버섯 솥밥\n"
     ]
    }
   ],
   "source": [
    "type_length = driver.find_elements_by_xpath('//*[@id=\"lnbMenu\"]/div[2]/ul/li')\n",
    "for index in range(1, len(type_length)-1):\n",
    "    val =driver.find_element_by_xpath(f'//*[@id=\"lnbMenu\"]/div[2]/ul/li[{index}]')\n",
    "    (val.get_attribute('innerText')"
   ]
  },
  {
   "cell_type": "code",
   "execution_count": 91,
   "metadata": {},
   "outputs": [
    {
     "name": "stdout",
     "output_type": "stream",
     "text": [
      "['매콤달콤 우리집 식탁']\n",
      "image> \n",
      "['']\n",
      "매운맛\n",
      "['매운맛']\n",
      "달콤한맛\n",
      "['매운맛', '달콤한맛']\n",
      "\n",
      "['매운맛', '달콤한맛', '']\n",
      "['매콤달콤 우리집 식탁', '아이들 입맛 책임질 간편식']\n",
      "image> \n",
      "['', '']\n",
      "\n",
      "['']\n",
      "['매콤달콤 우리집 식탁', '아이들 입맛 책임질 간편식', '햅쌀로 즐기는 솥밥']\n",
      "image> https://img-cf.kurly.com/shop/data/category/pc_category_sotbob_0909.1599706938.jpg\n",
      "['', '', 'https://img-cf.kurly.com/shop/data/category/pc_category_sotbob_0909.1599706938.jpg']\n",
      "가을 소고기 무밥\n",
      "['가을 소고기 무밥']\n",
      "명란 버섯 솥밥\n",
      "['가을 소고기 무밥', '명란 버섯 솥밥']\n",
      "반찬 & 주방용품\n",
      "['가을 소고기 무밥', '명란 버섯 솥밥', '반찬 & 주방용품']\n",
      "['매콤달콤 우리집 식탁', '아이들 입맛 책임질 간편식', '햅쌀로 즐기는 솥밥', '달걀 레시피 기획전']\n",
      "image> \n",
      "['', '', 'https://img-cf.kurly.com/shop/data/category/pc_category_sotbob_0909.1599706938.jpg', '']\n",
      "에그 브런치\n",
      "['에그 브런치']\n",
      "에그 버거\n",
      "['에그 브런치', '에그 버거']\n",
      "에그 키토김밥\n",
      "['에그 브런치', '에그 버거', '에그 키토김밥']\n"
     ]
    }
   ],
   "source": [
    "# 타이틀 명 , 이미지, 타입을 가져오는 크롤링 코드 \n",
    "event_titles =[]\n",
    "event_images = []\n",
    "event_types = []\n",
    "\n",
    "for url in url_list:\n",
    "    driver.get(url)\n",
    "    time.sleep(5)\n",
    "    # event title get\n",
    "    event_title = driver.find_element_by_xpath('//*[@id=\"lnbMenu\"]/div[2]/div/span[2]').get_attribute('innerText')\n",
    "    event_titles.append(event_title)\n",
    "    print(event_titles)\n",
    "    # event image get\n",
    "    main_event_image = driver.find_element_by_xpath('//*[@id=\"bnrCategory\"]/div/img').get_attribute('src')\n",
    "    print('image>',main_event_image)\n",
    "    event_images.append(main_event_image)\n",
    "    print(event_images)\n",
    "    # type list get\n",
    "    event_type_list_1depth = []\n",
    "    try:\n",
    "        for index in range(1, len(type_length)):\n",
    "            if index == 1:\n",
    "                continue\n",
    "            val =driver.find_element_by_xpath(f'//*[@id=\"lnbMenu\"]/div[2]/ul/li[{index}]')\n",
    "            print(val.get_attribute('innerText'))\n",
    "            event_type_list_1depth.append(val.get_attribute('innerText'))\n",
    "            print(event_type_list_1depth)\n",
    "        event_types.append(event_type_list_1depth)\n",
    "    except NoSuchElementException:\n",
    "        event_types.append([''])"
   ]
  },
  {
   "cell_type": "code",
   "execution_count": 85,
   "metadata": {},
   "outputs": [
    {
     "name": "stdout",
     "output_type": "stream",
     "text": [
      "['매콤달콤 우리집 식탁', '아이들 입맛 책임질 간편식', '햅쌀로 즐기는 솥밥', '달걀 레시피 기획전']\n",
      "['', '', '', '']\n",
      "[['매운맛', '달콤한맛', ''], [''], ['가을 소고기 무밥', '명란 버섯 솥밥', '반찬 & 주방용품'], ['에그 브런치', '에그 버거', '에그 키토김밥']]\n"
     ]
    }
   ],
   "source": [
    "print(event_titles)\n",
    "print(event_images)\n",
    "print(event_types)"
   ]
  },
  {
   "cell_type": "code",
   "execution_count": null,
   "metadata": {},
   "outputs": [],
   "source": [
    "# 상품 url 수집\n",
    "# 샐러드 카테고리 디테일 url \n",
    "    # test code\n",
    "driver.get(url_list[0])\n",
    "\n",
    "\n",
    "for index in range(1, 9):\n",
    "    if index == 1:\n",
    "        continue\n",
    "    # category_types_list\n",
    "    print(index)\n",
    "    button = driver.find_element_by_xpath(f'/html/body/div[1]/div[2]/div[2]/div/div[2]/div[1]/div[2]/ul/li[{index}]/a')\n",
    "    driver.execute_script(\"arguments[0].click();\", button)\n",
    "\n",
    "    time.sleep(4)\n",
    "    type_name = driver.find_element_by_xpath(f'/html/body/div[1]/div[2]/div[2]/div/div[2]/div[1]/div[2]/ul/li[{index}]/a').get_attribute('innerText')\n",
    "    print(type_name)\n",
    "    type_name_list.append(type_name)\n",
    "\n",
    "    # 각 타입 별 디테일 페이지 url\n",
    "    goods_detail_urls = driver.find_elements_by_xpath('/html/body/div[1]/div[2]/div[2]/div/div[2]/div[2]/div[2]/div/ul/li/div/div/div/button/span')\n",
    "    goodsNoList = []\n",
    "    for index in goods_detail_urls[:16]:\n",
    "        no = index.get_attribute('innerText')\n",
    "        if '재고' in no:\n",
    "            continue\n",
    "        goodsNoList.append(f'https://www.kurly.com/shop/goods/goods_view.php?goodsno={no}')\n",
    "    goods_no_detail_list.append(goodsNoList)\n",
    "all_type_list.append(type_name_list)\n",
    "all_goods_no_list.append(goods_no_detail_list)"
   ]
  },
  {
   "cell_type": "code",
   "execution_count": 92,
   "metadata": {},
   "outputs": [],
   "source": [
    "test = driver.find_element_by_xpath('//*[@id=\"sectionView\"]/div/p[3]/span[1]/span[1]/span[2]')"
   ]
  },
  {
   "cell_type": "code",
   "execution_count": 94,
   "metadata": {},
   "outputs": [],
   "source": [
    "value = test.get_attribute('innerText')"
   ]
  },
  {
   "cell_type": "code",
   "execution_count": 95,
   "metadata": {},
   "outputs": [
    {
     "data": {
      "text/plain": [
       "35"
      ]
     },
     "execution_count": 95,
     "metadata": {},
     "output_type": "execute_result"
    }
   ],
   "source": [
    "int(re.search(r'\\d+',value).group())"
   ]
  },
  {
   "cell_type": "code",
   "execution_count": null,
   "metadata": {},
   "outputs": [],
   "source": []
  }
 ],
 "metadata": {
  "kernelspec": {
   "display_name": "Python 3",
   "language": "python",
   "name": "python3"
  },
  "language_info": {
   "codemirror_mode": {
    "name": "ipython",
    "version": 3
   },
   "file_extension": ".py",
   "mimetype": "text/x-python",
   "name": "python",
   "nbconvert_exporter": "python",
   "pygments_lexer": "ipython3",
   "version": "3.8.2"
  }
 },
 "nbformat": 4,
 "nbformat_minor": 4
}
